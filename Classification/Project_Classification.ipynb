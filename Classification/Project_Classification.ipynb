{
 "cells": [
  {
   "cell_type": "markdown",
   "id": "ea4829a8",
   "metadata": {},
   "source": [
    "# Supervised Machine Learning: Classification - Project\n",
    "\n",
    "## Course 3 (IBM Machine Learning Professional Certificate) "
   ]
  },
  {
   "cell_type": "markdown",
   "id": "d6348475",
   "metadata": {},
   "source": [
    "This notebook is based on the structure/ideas which are part of the Lab Demos of the Classification course by IBM ((c) 2020 IBM Corporation) as well as on the concepts taught in the class. Moreover, this course is part of the IBM Machine Learning Professional Certificate, which can be found here: https://www.coursera.org/professional-certificates/ibm-machine-learning\n",
    "\n",
    "By: Berni Stitic, December 2021"
   ]
  },
  {
   "cell_type": "markdown",
   "id": "8155a853",
   "metadata": {},
   "source": [
    "## Index  "
   ]
  },
  {
   "cell_type": "markdown",
   "id": "2f167054",
   "metadata": {},
   "source": [
    "1. Loading the data set\n",
    "2. Initial exploration\n",
    "3. Preprocessing\n",
    "4. Train/test sets\n",
    "5. KNN model\n",
    "6. Random Forest model  \n",
    "7. Extra Random Trees model "
   ]
  },
  {
   "cell_type": "markdown",
   "id": "97ca60aa",
   "metadata": {},
   "source": [
    "# 1. Loading the data set"
   ]
  },
  {
   "cell_type": "markdown",
   "id": "cf8b249e",
   "metadata": {},
   "source": [
    "The chosen data set for this project is the customer churn data set which was used in the class and preprocessed in the file \"03b_LAB_KNN.ipynb\" ((c) 2020 IBM Corporation). The data set belongs to the telecommunications industry, is based on a fictional company and includes information such as data usage, monthly revenues, offerings and customer data. Moreover, regarding this data set, which is available in the course materials, we'll be using the data subset of customers who have phone accounts just like in the course. Also, the data set includes numeric and categorical variables which will be preprocessed in this notebook following the steps of the Lab Demo mentioned earlier at the beginning of this paragraph."
   ]
  },
  {
   "cell_type": "code",
   "execution_count": 1,
   "id": "0a97720b",
   "metadata": {},
   "outputs": [],
   "source": [
    "# The next line of code was taken from the KNN Demo\n",
    "import pandas as pd, numpy as np, matplotlib.pyplot as plt, os, sys, seaborn as sns\n",
    "os.chdir('data')\n",
    "from datasetup import churndata, colors, palette\n",
    "sns.set_palette(palette)"
   ]
  },
  {
   "cell_type": "code",
   "execution_count": 2,
   "id": "384bad04",
   "metadata": {},
   "outputs": [],
   "source": [
    "df = churndata"
   ]
  },
  {
   "cell_type": "markdown",
   "id": "9ba8b104",
   "metadata": {},
   "source": [
    "## 2. Initial exploration"
   ]
  },
  {
   "cell_type": "code",
   "execution_count": 3,
   "id": "eb7376ba",
   "metadata": {},
   "outputs": [
    {
     "data": {
      "text/html": [
       "<div>\n",
       "<style scoped>\n",
       "    .dataframe tbody tr th:only-of-type {\n",
       "        vertical-align: middle;\n",
       "    }\n",
       "\n",
       "    .dataframe tbody tr th {\n",
       "        vertical-align: top;\n",
       "    }\n",
       "\n",
       "    .dataframe thead th {\n",
       "        text-align: right;\n",
       "    }\n",
       "</style>\n",
       "<table border=\"1\" class=\"dataframe\">\n",
       "  <thead>\n",
       "    <tr style=\"text-align: right;\">\n",
       "      <th></th>\n",
       "      <th>id</th>\n",
       "      <th>months</th>\n",
       "      <th>offer</th>\n",
       "      <th>phone</th>\n",
       "      <th>multiple</th>\n",
       "      <th>internet_type</th>\n",
       "      <th>gb_mon</th>\n",
       "      <th>security</th>\n",
       "      <th>backup</th>\n",
       "      <th>protection</th>\n",
       "      <th>...</th>\n",
       "      <th>unlimited</th>\n",
       "      <th>contract</th>\n",
       "      <th>paperless</th>\n",
       "      <th>payment</th>\n",
       "      <th>monthly</th>\n",
       "      <th>total_revenue</th>\n",
       "      <th>satisfaction</th>\n",
       "      <th>churn_value</th>\n",
       "      <th>churn_score</th>\n",
       "      <th>cltv</th>\n",
       "    </tr>\n",
       "  </thead>\n",
       "  <tbody>\n",
       "    <tr>\n",
       "      <th>0</th>\n",
       "      <td>8779-QRDMV</td>\n",
       "      <td>1</td>\n",
       "      <td>None</td>\n",
       "      <td>No</td>\n",
       "      <td>No</td>\n",
       "      <td>DSL</td>\n",
       "      <td>8</td>\n",
       "      <td>No</td>\n",
       "      <td>No</td>\n",
       "      <td>Yes</td>\n",
       "      <td>...</td>\n",
       "      <td>No</td>\n",
       "      <td>Month-to-Month</td>\n",
       "      <td>Yes</td>\n",
       "      <td>Bank Withdrawal</td>\n",
       "      <td>39.65</td>\n",
       "      <td>59.65</td>\n",
       "      <td>3</td>\n",
       "      <td>1</td>\n",
       "      <td>91</td>\n",
       "      <td>5433</td>\n",
       "    </tr>\n",
       "    <tr>\n",
       "      <th>1</th>\n",
       "      <td>7495-OOKFY</td>\n",
       "      <td>8</td>\n",
       "      <td>Offer E</td>\n",
       "      <td>Yes</td>\n",
       "      <td>Yes</td>\n",
       "      <td>Fiber Optic</td>\n",
       "      <td>17</td>\n",
       "      <td>No</td>\n",
       "      <td>Yes</td>\n",
       "      <td>No</td>\n",
       "      <td>...</td>\n",
       "      <td>Yes</td>\n",
       "      <td>Month-to-Month</td>\n",
       "      <td>Yes</td>\n",
       "      <td>Credit Card</td>\n",
       "      <td>80.65</td>\n",
       "      <td>1024.10</td>\n",
       "      <td>3</td>\n",
       "      <td>1</td>\n",
       "      <td>69</td>\n",
       "      <td>5302</td>\n",
       "    </tr>\n",
       "    <tr>\n",
       "      <th>2</th>\n",
       "      <td>1658-BYGOY</td>\n",
       "      <td>18</td>\n",
       "      <td>Offer D</td>\n",
       "      <td>Yes</td>\n",
       "      <td>Yes</td>\n",
       "      <td>Fiber Optic</td>\n",
       "      <td>52</td>\n",
       "      <td>No</td>\n",
       "      <td>No</td>\n",
       "      <td>No</td>\n",
       "      <td>...</td>\n",
       "      <td>Yes</td>\n",
       "      <td>Month-to-Month</td>\n",
       "      <td>Yes</td>\n",
       "      <td>Bank Withdrawal</td>\n",
       "      <td>95.45</td>\n",
       "      <td>1910.88</td>\n",
       "      <td>2</td>\n",
       "      <td>1</td>\n",
       "      <td>81</td>\n",
       "      <td>3179</td>\n",
       "    </tr>\n",
       "    <tr>\n",
       "      <th>3</th>\n",
       "      <td>4598-XLKNJ</td>\n",
       "      <td>25</td>\n",
       "      <td>Offer C</td>\n",
       "      <td>Yes</td>\n",
       "      <td>No</td>\n",
       "      <td>Fiber Optic</td>\n",
       "      <td>12</td>\n",
       "      <td>No</td>\n",
       "      <td>Yes</td>\n",
       "      <td>Yes</td>\n",
       "      <td>...</td>\n",
       "      <td>Yes</td>\n",
       "      <td>Month-to-Month</td>\n",
       "      <td>Yes</td>\n",
       "      <td>Bank Withdrawal</td>\n",
       "      <td>98.50</td>\n",
       "      <td>2995.07</td>\n",
       "      <td>2</td>\n",
       "      <td>1</td>\n",
       "      <td>88</td>\n",
       "      <td>5337</td>\n",
       "    </tr>\n",
       "    <tr>\n",
       "      <th>4</th>\n",
       "      <td>4846-WHAFZ</td>\n",
       "      <td>37</td>\n",
       "      <td>Offer C</td>\n",
       "      <td>Yes</td>\n",
       "      <td>Yes</td>\n",
       "      <td>Fiber Optic</td>\n",
       "      <td>14</td>\n",
       "      <td>No</td>\n",
       "      <td>No</td>\n",
       "      <td>No</td>\n",
       "      <td>...</td>\n",
       "      <td>Yes</td>\n",
       "      <td>Month-to-Month</td>\n",
       "      <td>Yes</td>\n",
       "      <td>Bank Withdrawal</td>\n",
       "      <td>76.50</td>\n",
       "      <td>3102.36</td>\n",
       "      <td>2</td>\n",
       "      <td>1</td>\n",
       "      <td>67</td>\n",
       "      <td>2793</td>\n",
       "    </tr>\n",
       "  </tbody>\n",
       "</table>\n",
       "<p>5 rows × 21 columns</p>\n",
       "</div>"
      ],
      "text/plain": [
       "           id  months    offer phone multiple internet_type  gb_mon security  \\\n",
       "0  8779-QRDMV       1     None    No       No           DSL       8       No   \n",
       "1  7495-OOKFY       8  Offer E   Yes      Yes   Fiber Optic      17       No   \n",
       "2  1658-BYGOY      18  Offer D   Yes      Yes   Fiber Optic      52       No   \n",
       "3  4598-XLKNJ      25  Offer C   Yes       No   Fiber Optic      12       No   \n",
       "4  4846-WHAFZ      37  Offer C   Yes      Yes   Fiber Optic      14       No   \n",
       "\n",
       "  backup protection  ... unlimited        contract paperless          payment  \\\n",
       "0     No        Yes  ...        No  Month-to-Month       Yes  Bank Withdrawal   \n",
       "1    Yes         No  ...       Yes  Month-to-Month       Yes      Credit Card   \n",
       "2     No         No  ...       Yes  Month-to-Month       Yes  Bank Withdrawal   \n",
       "3    Yes        Yes  ...       Yes  Month-to-Month       Yes  Bank Withdrawal   \n",
       "4     No         No  ...       Yes  Month-to-Month       Yes  Bank Withdrawal   \n",
       "\n",
       "  monthly  total_revenue  satisfaction  churn_value  churn_score  cltv  \n",
       "0   39.65          59.65             3            1           91  5433  \n",
       "1   80.65        1024.10             3            1           69  5302  \n",
       "2   95.45        1910.88             2            1           81  3179  \n",
       "3   98.50        2995.07             2            1           88  5337  \n",
       "4   76.50        3102.36             2            1           67  2793  \n",
       "\n",
       "[5 rows x 21 columns]"
      ]
     },
     "execution_count": 3,
     "metadata": {},
     "output_type": "execute_result"
    }
   ],
   "source": [
    "# Initial exploration\n",
    "churndata.head()"
   ]
  },
  {
   "cell_type": "code",
   "execution_count": 4,
   "id": "d048a26e",
   "metadata": {},
   "outputs": [
    {
     "data": {
      "text/plain": [
       "id                object\n",
       "months             int64\n",
       "offer             object\n",
       "phone             object\n",
       "multiple          object\n",
       "internet_type     object\n",
       "gb_mon             int64\n",
       "security          object\n",
       "backup            object\n",
       "protection        object\n",
       "support           object\n",
       "unlimited         object\n",
       "contract          object\n",
       "paperless         object\n",
       "payment           object\n",
       "monthly          float64\n",
       "total_revenue    float64\n",
       "satisfaction       int64\n",
       "churn_value        int64\n",
       "churn_score        int64\n",
       "cltv               int64\n",
       "dtype: object"
      ]
     },
     "execution_count": 4,
     "metadata": {},
     "output_type": "execute_result"
    }
   ],
   "source": [
    "# Data types of the data\n",
    "churndata.dtypes"
   ]
  },
  {
   "cell_type": "code",
   "execution_count": 5,
   "id": "9d4591ff",
   "metadata": {},
   "outputs": [
    {
     "name": "stdout",
     "output_type": "stream",
     "text": [
      "<class 'pandas.core.frame.DataFrame'>\n",
      "Int64Index: 7043 entries, 0 to 7042\n",
      "Data columns (total 21 columns):\n",
      " #   Column         Non-Null Count  Dtype  \n",
      "---  ------         --------------  -----  \n",
      " 0   id             7043 non-null   object \n",
      " 1   months         7043 non-null   int64  \n",
      " 2   offer          7043 non-null   object \n",
      " 3   phone          7043 non-null   object \n",
      " 4   multiple       7043 non-null   object \n",
      " 5   internet_type  7043 non-null   object \n",
      " 6   gb_mon         7043 non-null   int64  \n",
      " 7   security       7043 non-null   object \n",
      " 8   backup         7043 non-null   object \n",
      " 9   protection     7043 non-null   object \n",
      " 10  support        7043 non-null   object \n",
      " 11  unlimited      7043 non-null   object \n",
      " 12  contract       7043 non-null   object \n",
      " 13  paperless      7043 non-null   object \n",
      " 14  payment        7043 non-null   object \n",
      " 15  monthly        7043 non-null   float64\n",
      " 16  total_revenue  7043 non-null   float64\n",
      " 17  satisfaction   7043 non-null   int64  \n",
      " 18  churn_value    7043 non-null   int64  \n",
      " 19  churn_score    7043 non-null   int64  \n",
      " 20  cltv           7043 non-null   int64  \n",
      "dtypes: float64(2), int64(6), object(13)\n",
      "memory usage: 1.2+ MB\n"
     ]
    }
   ],
   "source": [
    "df.info()"
   ]
  },
  {
   "cell_type": "code",
   "execution_count": 6,
   "id": "31654820",
   "metadata": {},
   "outputs": [
    {
     "data": {
      "text/html": [
       "<div>\n",
       "<style scoped>\n",
       "    .dataframe tbody tr th:only-of-type {\n",
       "        vertical-align: middle;\n",
       "    }\n",
       "\n",
       "    .dataframe tbody tr th {\n",
       "        vertical-align: top;\n",
       "    }\n",
       "\n",
       "    .dataframe thead th {\n",
       "        text-align: right;\n",
       "    }\n",
       "</style>\n",
       "<table border=\"1\" class=\"dataframe\">\n",
       "  <thead>\n",
       "    <tr style=\"text-align: right;\">\n",
       "      <th></th>\n",
       "      <th>count</th>\n",
       "      <th>mean</th>\n",
       "      <th>std</th>\n",
       "      <th>min</th>\n",
       "      <th>25%</th>\n",
       "      <th>50%</th>\n",
       "      <th>75%</th>\n",
       "      <th>max</th>\n",
       "    </tr>\n",
       "  </thead>\n",
       "  <tbody>\n",
       "    <tr>\n",
       "      <th>months</th>\n",
       "      <td>7043.0</td>\n",
       "      <td>32.386767</td>\n",
       "      <td>24.542061</td>\n",
       "      <td>1.00</td>\n",
       "      <td>9.00</td>\n",
       "      <td>29.00</td>\n",
       "      <td>55.000</td>\n",
       "      <td>72.00</td>\n",
       "    </tr>\n",
       "    <tr>\n",
       "      <th>gb_mon</th>\n",
       "      <td>7043.0</td>\n",
       "      <td>20.515405</td>\n",
       "      <td>20.418940</td>\n",
       "      <td>0.00</td>\n",
       "      <td>3.00</td>\n",
       "      <td>17.00</td>\n",
       "      <td>27.000</td>\n",
       "      <td>85.00</td>\n",
       "    </tr>\n",
       "    <tr>\n",
       "      <th>monthly</th>\n",
       "      <td>7043.0</td>\n",
       "      <td>64.761692</td>\n",
       "      <td>30.090047</td>\n",
       "      <td>18.25</td>\n",
       "      <td>35.50</td>\n",
       "      <td>70.35</td>\n",
       "      <td>89.850</td>\n",
       "      <td>118.75</td>\n",
       "    </tr>\n",
       "    <tr>\n",
       "      <th>total_revenue</th>\n",
       "      <td>7043.0</td>\n",
       "      <td>3034.379056</td>\n",
       "      <td>2865.204542</td>\n",
       "      <td>21.36</td>\n",
       "      <td>605.61</td>\n",
       "      <td>2108.64</td>\n",
       "      <td>4801.145</td>\n",
       "      <td>11979.34</td>\n",
       "    </tr>\n",
       "    <tr>\n",
       "      <th>satisfaction</th>\n",
       "      <td>7043.0</td>\n",
       "      <td>3.244924</td>\n",
       "      <td>1.201657</td>\n",
       "      <td>1.00</td>\n",
       "      <td>3.00</td>\n",
       "      <td>3.00</td>\n",
       "      <td>4.000</td>\n",
       "      <td>5.00</td>\n",
       "    </tr>\n",
       "    <tr>\n",
       "      <th>churn_value</th>\n",
       "      <td>7043.0</td>\n",
       "      <td>0.265370</td>\n",
       "      <td>0.441561</td>\n",
       "      <td>0.00</td>\n",
       "      <td>0.00</td>\n",
       "      <td>0.00</td>\n",
       "      <td>1.000</td>\n",
       "      <td>1.00</td>\n",
       "    </tr>\n",
       "    <tr>\n",
       "      <th>churn_score</th>\n",
       "      <td>7043.0</td>\n",
       "      <td>58.505040</td>\n",
       "      <td>21.170031</td>\n",
       "      <td>5.00</td>\n",
       "      <td>40.00</td>\n",
       "      <td>61.00</td>\n",
       "      <td>75.500</td>\n",
       "      <td>96.00</td>\n",
       "    </tr>\n",
       "    <tr>\n",
       "      <th>cltv</th>\n",
       "      <td>7043.0</td>\n",
       "      <td>4400.295755</td>\n",
       "      <td>1183.057152</td>\n",
       "      <td>2003.00</td>\n",
       "      <td>3469.00</td>\n",
       "      <td>4527.00</td>\n",
       "      <td>5380.500</td>\n",
       "      <td>6500.00</td>\n",
       "    </tr>\n",
       "  </tbody>\n",
       "</table>\n",
       "</div>"
      ],
      "text/plain": [
       "                count         mean          std      min      25%      50%  \\\n",
       "months         7043.0    32.386767    24.542061     1.00     9.00    29.00   \n",
       "gb_mon         7043.0    20.515405    20.418940     0.00     3.00    17.00   \n",
       "monthly        7043.0    64.761692    30.090047    18.25    35.50    70.35   \n",
       "total_revenue  7043.0  3034.379056  2865.204542    21.36   605.61  2108.64   \n",
       "satisfaction   7043.0     3.244924     1.201657     1.00     3.00     3.00   \n",
       "churn_value    7043.0     0.265370     0.441561     0.00     0.00     0.00   \n",
       "churn_score    7043.0    58.505040    21.170031     5.00    40.00    61.00   \n",
       "cltv           7043.0  4400.295755  1183.057152  2003.00  3469.00  4527.00   \n",
       "\n",
       "                    75%       max  \n",
       "months           55.000     72.00  \n",
       "gb_mon           27.000     85.00  \n",
       "monthly          89.850    118.75  \n",
       "total_revenue  4801.145  11979.34  \n",
       "satisfaction      4.000      5.00  \n",
       "churn_value       1.000      1.00  \n",
       "churn_score      75.500     96.00  \n",
       "cltv           5380.500   6500.00  "
      ]
     },
     "execution_count": 6,
     "metadata": {},
     "output_type": "execute_result"
    }
   ],
   "source": [
    "# Initial description\n",
    "churndata.describe().T"
   ]
  },
  {
   "cell_type": "code",
   "execution_count": 7,
   "id": "99676614",
   "metadata": {},
   "outputs": [
    {
     "data": {
      "text/html": [
       "<div>\n",
       "<style scoped>\n",
       "    .dataframe tbody tr th:only-of-type {\n",
       "        vertical-align: middle;\n",
       "    }\n",
       "\n",
       "    .dataframe tbody tr th {\n",
       "        vertical-align: top;\n",
       "    }\n",
       "\n",
       "    .dataframe thead th {\n",
       "        text-align: right;\n",
       "    }\n",
       "</style>\n",
       "<table border=\"1\" class=\"dataframe\">\n",
       "  <thead>\n",
       "    <tr style=\"text-align: right;\">\n",
       "      <th></th>\n",
       "      <th>count</th>\n",
       "      <th>unique</th>\n",
       "      <th>top</th>\n",
       "      <th>freq</th>\n",
       "    </tr>\n",
       "  </thead>\n",
       "  <tbody>\n",
       "    <tr>\n",
       "      <th>id</th>\n",
       "      <td>7043</td>\n",
       "      <td>7043</td>\n",
       "      <td>8711-LOBKY</td>\n",
       "      <td>1</td>\n",
       "    </tr>\n",
       "    <tr>\n",
       "      <th>offer</th>\n",
       "      <td>7043</td>\n",
       "      <td>6</td>\n",
       "      <td>None</td>\n",
       "      <td>3877</td>\n",
       "    </tr>\n",
       "    <tr>\n",
       "      <th>phone</th>\n",
       "      <td>7043</td>\n",
       "      <td>2</td>\n",
       "      <td>Yes</td>\n",
       "      <td>6361</td>\n",
       "    </tr>\n",
       "    <tr>\n",
       "      <th>multiple</th>\n",
       "      <td>7043</td>\n",
       "      <td>2</td>\n",
       "      <td>No</td>\n",
       "      <td>4072</td>\n",
       "    </tr>\n",
       "    <tr>\n",
       "      <th>internet_type</th>\n",
       "      <td>7043</td>\n",
       "      <td>4</td>\n",
       "      <td>Fiber Optic</td>\n",
       "      <td>3035</td>\n",
       "    </tr>\n",
       "    <tr>\n",
       "      <th>security</th>\n",
       "      <td>7043</td>\n",
       "      <td>2</td>\n",
       "      <td>No</td>\n",
       "      <td>5024</td>\n",
       "    </tr>\n",
       "    <tr>\n",
       "      <th>backup</th>\n",
       "      <td>7043</td>\n",
       "      <td>2</td>\n",
       "      <td>No</td>\n",
       "      <td>4614</td>\n",
       "    </tr>\n",
       "    <tr>\n",
       "      <th>protection</th>\n",
       "      <td>7043</td>\n",
       "      <td>2</td>\n",
       "      <td>No</td>\n",
       "      <td>4621</td>\n",
       "    </tr>\n",
       "    <tr>\n",
       "      <th>support</th>\n",
       "      <td>7043</td>\n",
       "      <td>2</td>\n",
       "      <td>No</td>\n",
       "      <td>4999</td>\n",
       "    </tr>\n",
       "    <tr>\n",
       "      <th>unlimited</th>\n",
       "      <td>7043</td>\n",
       "      <td>2</td>\n",
       "      <td>Yes</td>\n",
       "      <td>4745</td>\n",
       "    </tr>\n",
       "    <tr>\n",
       "      <th>contract</th>\n",
       "      <td>7043</td>\n",
       "      <td>3</td>\n",
       "      <td>Month-to-Month</td>\n",
       "      <td>3610</td>\n",
       "    </tr>\n",
       "    <tr>\n",
       "      <th>paperless</th>\n",
       "      <td>7043</td>\n",
       "      <td>2</td>\n",
       "      <td>Yes</td>\n",
       "      <td>4171</td>\n",
       "    </tr>\n",
       "    <tr>\n",
       "      <th>payment</th>\n",
       "      <td>7043</td>\n",
       "      <td>3</td>\n",
       "      <td>Bank Withdrawal</td>\n",
       "      <td>3909</td>\n",
       "    </tr>\n",
       "  </tbody>\n",
       "</table>\n",
       "</div>"
      ],
      "text/plain": [
       "              count unique              top  freq\n",
       "id             7043   7043       8711-LOBKY     1\n",
       "offer          7043      6             None  3877\n",
       "phone          7043      2              Yes  6361\n",
       "multiple       7043      2               No  4072\n",
       "internet_type  7043      4      Fiber Optic  3035\n",
       "security       7043      2               No  5024\n",
       "backup         7043      2               No  4614\n",
       "protection     7043      2               No  4621\n",
       "support        7043      2               No  4999\n",
       "unlimited      7043      2              Yes  4745\n",
       "contract       7043      3   Month-to-Month  3610\n",
       "paperless      7043      2              Yes  4171\n",
       "payment        7043      3  Bank Withdrawal  3909"
      ]
     },
     "execution_count": 7,
     "metadata": {},
     "output_type": "execute_result"
    }
   ],
   "source": [
    "churndata.describe(include='object').T"
   ]
  },
  {
   "cell_type": "markdown",
   "id": "00453dd7",
   "metadata": {},
   "source": [
    "#### Pair plot "
   ]
  },
  {
   "cell_type": "code",
   "execution_count": 11,
   "id": "35fdcac7",
   "metadata": {},
   "outputs": [
    {
     "data": {
      "text/plain": [
       "<seaborn.axisgrid.PairGrid at 0x1f84c5c6550>"
      ]
     },
     "execution_count": 11,
     "metadata": {},
     "output_type": "execute_result"
    },
    {
     "data": {
      "image/png": "[encoded data removed]",
      "text/plain": [
       "<Figure size 540x540 with 12 Axes>"
      ]
     },
     "metadata": {
      "needs_background": "light"
     },
     "output_type": "display_data"
    }
   ],
   "source": [
    "sns.pairplot(churndata[['gb_mon','monthly', 'churn_value']])"
   ]
  },
  {
   "cell_type": "markdown",
   "id": "c47998e1",
   "metadata": {},
   "source": [
    "Just like in the KNN Lab Demo, let's drop the columns called 'id', 'phone', 'total_revenue', 'cltv' and 'churn_score'. These columns are related to the following information: ID, phone customer status, lifetime value, total revenue and churn score (bank-estimated). Like in the course notebook, we won't be using this information either."
   ]
  },
  {
   "cell_type": "markdown",
   "id": "2a72d444",
   "metadata": {},
   "source": [
    "## 3. Preprocessing"
   ]
  },
  {
   "cell_type": "markdown",
   "id": "58cd94b3",
   "metadata": {},
   "source": [
    "#### Drop specific columns "
   ]
  },
  {
   "cell_type": "code",
   "execution_count": 10,
   "id": "e8f0256c",
   "metadata": {},
   "outputs": [],
   "source": [
    "# This cell was taken from the KNN Demo\n",
    "df = churndata.drop(columns=['id', 'phone', 'total_revenue', 'cltv', 'churn_score'])"
   ]
  },
  {
   "cell_type": "code",
   "execution_count": 11,
   "id": "44536e5f",
   "metadata": {},
   "outputs": [
    {
     "name": "stdout",
     "output_type": "stream",
     "text": [
      "<class 'pandas.core.frame.DataFrame'>\n",
      "Int64Index: 7043 entries, 0 to 7042\n",
      "Data columns (total 16 columns):\n",
      " #   Column         Non-Null Count  Dtype  \n",
      "---  ------         --------------  -----  \n",
      " 0   months         7043 non-null   int64  \n",
      " 1   offer          7043 non-null   object \n",
      " 2   multiple       7043 non-null   object \n",
      " 3   internet_type  7043 non-null   object \n",
      " 4   gb_mon         7043 non-null   int64  \n",
      " 5   security       7043 non-null   object \n",
      " 6   backup         7043 non-null   object \n",
      " 7   protection     7043 non-null   object \n",
      " 8   support        7043 non-null   object \n",
      " 9   unlimited      7043 non-null   object \n",
      " 10  contract       7043 non-null   object \n",
      " 11  paperless      7043 non-null   object \n",
      " 12  payment        7043 non-null   object \n",
      " 13  monthly        7043 non-null   float64\n",
      " 14  satisfaction   7043 non-null   int64  \n",
      " 15  churn_value    7043 non-null   int64  \n",
      "dtypes: float64(1), int64(4), object(11)\n",
      "memory usage: 935.4+ KB\n"
     ]
    }
   ],
   "source": [
    "# Check new information\n",
    "df.info()"
   ]
  },
  {
   "cell_type": "markdown",
   "id": "4a3e8049",
   "metadata": {},
   "source": [
    "#### Inspection "
   ]
  },
  {
   "cell_type": "code",
   "execution_count": 7,
   "id": "d0f34814",
   "metadata": {},
   "outputs": [
    {
     "data": {
      "text/html": [
       "<div>\n",
       "<style scoped>\n",
       "    .dataframe tbody tr th:only-of-type {\n",
       "        vertical-align: middle;\n",
       "    }\n",
       "\n",
       "    .dataframe tbody tr th {\n",
       "        vertical-align: top;\n",
       "    }\n",
       "\n",
       "    .dataframe thead th {\n",
       "        text-align: right;\n",
       "    }\n",
       "</style>\n",
       "<table border=\"1\" class=\"dataframe\">\n",
       "  <thead>\n",
       "    <tr style=\"text-align: right;\">\n",
       "      <th></th>\n",
       "      <th>months</th>\n",
       "      <th>offer</th>\n",
       "      <th>multiple</th>\n",
       "      <th>internet_type</th>\n",
       "      <th>gb_mon</th>\n",
       "      <th>security</th>\n",
       "      <th>backup</th>\n",
       "      <th>protection</th>\n",
       "      <th>support</th>\n",
       "      <th>unlimited</th>\n",
       "      <th>contract</th>\n",
       "      <th>paperless</th>\n",
       "      <th>payment</th>\n",
       "      <th>monthly</th>\n",
       "      <th>satisfaction</th>\n",
       "      <th>churn_value</th>\n",
       "    </tr>\n",
       "  </thead>\n",
       "  <tbody>\n",
       "    <tr>\n",
       "      <th>0</th>\n",
       "      <td>1</td>\n",
       "      <td>None</td>\n",
       "      <td>No</td>\n",
       "      <td>DSL</td>\n",
       "      <td>8</td>\n",
       "      <td>No</td>\n",
       "      <td>No</td>\n",
       "      <td>Yes</td>\n",
       "      <td>No</td>\n",
       "      <td>No</td>\n",
       "      <td>Month-to-Month</td>\n",
       "      <td>Yes</td>\n",
       "      <td>Bank Withdrawal</td>\n",
       "      <td>39.65</td>\n",
       "      <td>3</td>\n",
       "      <td>1</td>\n",
       "    </tr>\n",
       "    <tr>\n",
       "      <th>1</th>\n",
       "      <td>8</td>\n",
       "      <td>Offer E</td>\n",
       "      <td>Yes</td>\n",
       "      <td>Fiber Optic</td>\n",
       "      <td>17</td>\n",
       "      <td>No</td>\n",
       "      <td>Yes</td>\n",
       "      <td>No</td>\n",
       "      <td>No</td>\n",
       "      <td>Yes</td>\n",
       "      <td>Month-to-Month</td>\n",
       "      <td>Yes</td>\n",
       "      <td>Credit Card</td>\n",
       "      <td>80.65</td>\n",
       "      <td>3</td>\n",
       "      <td>1</td>\n",
       "    </tr>\n",
       "    <tr>\n",
       "      <th>2</th>\n",
       "      <td>18</td>\n",
       "      <td>Offer D</td>\n",
       "      <td>Yes</td>\n",
       "      <td>Fiber Optic</td>\n",
       "      <td>52</td>\n",
       "      <td>No</td>\n",
       "      <td>No</td>\n",
       "      <td>No</td>\n",
       "      <td>No</td>\n",
       "      <td>Yes</td>\n",
       "      <td>Month-to-Month</td>\n",
       "      <td>Yes</td>\n",
       "      <td>Bank Withdrawal</td>\n",
       "      <td>95.45</td>\n",
       "      <td>2</td>\n",
       "      <td>1</td>\n",
       "    </tr>\n",
       "    <tr>\n",
       "      <th>3</th>\n",
       "      <td>25</td>\n",
       "      <td>Offer C</td>\n",
       "      <td>No</td>\n",
       "      <td>Fiber Optic</td>\n",
       "      <td>12</td>\n",
       "      <td>No</td>\n",
       "      <td>Yes</td>\n",
       "      <td>Yes</td>\n",
       "      <td>No</td>\n",
       "      <td>Yes</td>\n",
       "      <td>Month-to-Month</td>\n",
       "      <td>Yes</td>\n",
       "      <td>Bank Withdrawal</td>\n",
       "      <td>98.50</td>\n",
       "      <td>2</td>\n",
       "      <td>1</td>\n",
       "    </tr>\n",
       "    <tr>\n",
       "      <th>4</th>\n",
       "      <td>37</td>\n",
       "      <td>Offer C</td>\n",
       "      <td>Yes</td>\n",
       "      <td>Fiber Optic</td>\n",
       "      <td>14</td>\n",
       "      <td>No</td>\n",
       "      <td>No</td>\n",
       "      <td>No</td>\n",
       "      <td>No</td>\n",
       "      <td>Yes</td>\n",
       "      <td>Month-to-Month</td>\n",
       "      <td>Yes</td>\n",
       "      <td>Bank Withdrawal</td>\n",
       "      <td>76.50</td>\n",
       "      <td>2</td>\n",
       "      <td>1</td>\n",
       "    </tr>\n",
       "  </tbody>\n",
       "</table>\n",
       "</div>"
      ],
      "text/plain": [
       "   months    offer multiple internet_type  gb_mon security backup protection  \\\n",
       "0       1     None       No           DSL       8       No     No        Yes   \n",
       "1       8  Offer E      Yes   Fiber Optic      17       No    Yes         No   \n",
       "2      18  Offer D      Yes   Fiber Optic      52       No     No         No   \n",
       "3      25  Offer C       No   Fiber Optic      12       No    Yes        Yes   \n",
       "4      37  Offer C      Yes   Fiber Optic      14       No     No         No   \n",
       "\n",
       "  support unlimited        contract paperless          payment  monthly  \\\n",
       "0      No        No  Month-to-Month       Yes  Bank Withdrawal    39.65   \n",
       "1      No       Yes  Month-to-Month       Yes      Credit Card    80.65   \n",
       "2      No       Yes  Month-to-Month       Yes  Bank Withdrawal    95.45   \n",
       "3      No       Yes  Month-to-Month       Yes  Bank Withdrawal    98.50   \n",
       "4      No       Yes  Month-to-Month       Yes  Bank Withdrawal    76.50   \n",
       "\n",
       "   satisfaction  churn_value  \n",
       "0             3            1  \n",
       "1             3            1  \n",
       "2             2            1  \n",
       "3             2            1  \n",
       "4             2            1  "
      ]
     },
     "execution_count": 7,
     "metadata": {},
     "output_type": "execute_result"
    }
   ],
   "source": [
    "# Let's explore the new DataFrame\n",
    "df.head()"
   ]
  },
  {
   "cell_type": "code",
   "execution_count": 8,
   "id": "bdbf2f4e",
   "metadata": {},
   "outputs": [
    {
     "data": {
      "text/html": [
       "<div>\n",
       "<style scoped>\n",
       "    .dataframe tbody tr th:only-of-type {\n",
       "        vertical-align: middle;\n",
       "    }\n",
       "\n",
       "    .dataframe tbody tr th {\n",
       "        vertical-align: top;\n",
       "    }\n",
       "\n",
       "    .dataframe thead th {\n",
       "        text-align: right;\n",
       "    }\n",
       "</style>\n",
       "<table border=\"1\" class=\"dataframe\">\n",
       "  <thead>\n",
       "    <tr style=\"text-align: right;\">\n",
       "      <th></th>\n",
       "      <th>count</th>\n",
       "      <th>mean</th>\n",
       "      <th>std</th>\n",
       "      <th>min</th>\n",
       "      <th>25%</th>\n",
       "      <th>50%</th>\n",
       "      <th>75%</th>\n",
       "      <th>max</th>\n",
       "    </tr>\n",
       "  </thead>\n",
       "  <tbody>\n",
       "    <tr>\n",
       "      <th>months</th>\n",
       "      <td>7043.0</td>\n",
       "      <td>32.387</td>\n",
       "      <td>24.542</td>\n",
       "      <td>1.00</td>\n",
       "      <td>9.0</td>\n",
       "      <td>29.00</td>\n",
       "      <td>55.00</td>\n",
       "      <td>72.00</td>\n",
       "    </tr>\n",
       "    <tr>\n",
       "      <th>gb_mon</th>\n",
       "      <td>7043.0</td>\n",
       "      <td>20.515</td>\n",
       "      <td>20.419</td>\n",
       "      <td>0.00</td>\n",
       "      <td>3.0</td>\n",
       "      <td>17.00</td>\n",
       "      <td>27.00</td>\n",
       "      <td>85.00</td>\n",
       "    </tr>\n",
       "    <tr>\n",
       "      <th>monthly</th>\n",
       "      <td>7043.0</td>\n",
       "      <td>64.762</td>\n",
       "      <td>30.090</td>\n",
       "      <td>18.25</td>\n",
       "      <td>35.5</td>\n",
       "      <td>70.35</td>\n",
       "      <td>89.85</td>\n",
       "      <td>118.75</td>\n",
       "    </tr>\n",
       "    <tr>\n",
       "      <th>satisfaction</th>\n",
       "      <td>7043.0</td>\n",
       "      <td>3.245</td>\n",
       "      <td>1.202</td>\n",
       "      <td>1.00</td>\n",
       "      <td>3.0</td>\n",
       "      <td>3.00</td>\n",
       "      <td>4.00</td>\n",
       "      <td>5.00</td>\n",
       "    </tr>\n",
       "    <tr>\n",
       "      <th>churn_value</th>\n",
       "      <td>7043.0</td>\n",
       "      <td>0.265</td>\n",
       "      <td>0.442</td>\n",
       "      <td>0.00</td>\n",
       "      <td>0.0</td>\n",
       "      <td>0.00</td>\n",
       "      <td>1.00</td>\n",
       "      <td>1.00</td>\n",
       "    </tr>\n",
       "  </tbody>\n",
       "</table>\n",
       "</div>"
      ],
      "text/plain": [
       "               count    mean     std    min   25%    50%    75%     max\n",
       "months        7043.0  32.387  24.542   1.00   9.0  29.00  55.00   72.00\n",
       "gb_mon        7043.0  20.515  20.419   0.00   3.0  17.00  27.00   85.00\n",
       "monthly       7043.0  64.762  30.090  18.25  35.5  70.35  89.85  118.75\n",
       "satisfaction  7043.0   3.245   1.202   1.00   3.0   3.00   4.00    5.00\n",
       "churn_value   7043.0   0.265   0.442   0.00   0.0   0.00   1.00    1.00"
      ]
     },
     "execution_count": 8,
     "metadata": {},
     "output_type": "execute_result"
    }
   ],
   "source": [
    "# Description of the new DataFrame\n",
    "round(df.describe().T,3)"
   ]
  },
  {
   "cell_type": "code",
   "execution_count": 9,
   "id": "cffd9bd7",
   "metadata": {},
   "outputs": [
    {
     "data": {
      "text/html": [
       "<div>\n",
       "<style scoped>\n",
       "    .dataframe tbody tr th:only-of-type {\n",
       "        vertical-align: middle;\n",
       "    }\n",
       "\n",
       "    .dataframe tbody tr th {\n",
       "        vertical-align: top;\n",
       "    }\n",
       "\n",
       "    .dataframe thead th {\n",
       "        text-align: right;\n",
       "    }\n",
       "</style>\n",
       "<table border=\"1\" class=\"dataframe\">\n",
       "  <thead>\n",
       "    <tr style=\"text-align: right;\">\n",
       "      <th></th>\n",
       "      <th>count</th>\n",
       "      <th>unique</th>\n",
       "      <th>top</th>\n",
       "      <th>freq</th>\n",
       "    </tr>\n",
       "  </thead>\n",
       "  <tbody>\n",
       "    <tr>\n",
       "      <th>offer</th>\n",
       "      <td>7043</td>\n",
       "      <td>6</td>\n",
       "      <td>None</td>\n",
       "      <td>3877</td>\n",
       "    </tr>\n",
       "    <tr>\n",
       "      <th>multiple</th>\n",
       "      <td>7043</td>\n",
       "      <td>2</td>\n",
       "      <td>No</td>\n",
       "      <td>4072</td>\n",
       "    </tr>\n",
       "    <tr>\n",
       "      <th>internet_type</th>\n",
       "      <td>7043</td>\n",
       "      <td>4</td>\n",
       "      <td>Fiber Optic</td>\n",
       "      <td>3035</td>\n",
       "    </tr>\n",
       "    <tr>\n",
       "      <th>security</th>\n",
       "      <td>7043</td>\n",
       "      <td>2</td>\n",
       "      <td>No</td>\n",
       "      <td>5024</td>\n",
       "    </tr>\n",
       "    <tr>\n",
       "      <th>backup</th>\n",
       "      <td>7043</td>\n",
       "      <td>2</td>\n",
       "      <td>No</td>\n",
       "      <td>4614</td>\n",
       "    </tr>\n",
       "    <tr>\n",
       "      <th>protection</th>\n",
       "      <td>7043</td>\n",
       "      <td>2</td>\n",
       "      <td>No</td>\n",
       "      <td>4621</td>\n",
       "    </tr>\n",
       "    <tr>\n",
       "      <th>support</th>\n",
       "      <td>7043</td>\n",
       "      <td>2</td>\n",
       "      <td>No</td>\n",
       "      <td>4999</td>\n",
       "    </tr>\n",
       "    <tr>\n",
       "      <th>unlimited</th>\n",
       "      <td>7043</td>\n",
       "      <td>2</td>\n",
       "      <td>Yes</td>\n",
       "      <td>4745</td>\n",
       "    </tr>\n",
       "    <tr>\n",
       "      <th>contract</th>\n",
       "      <td>7043</td>\n",
       "      <td>3</td>\n",
       "      <td>Month-to-Month</td>\n",
       "      <td>3610</td>\n",
       "    </tr>\n",
       "    <tr>\n",
       "      <th>paperless</th>\n",
       "      <td>7043</td>\n",
       "      <td>2</td>\n",
       "      <td>Yes</td>\n",
       "      <td>4171</td>\n",
       "    </tr>\n",
       "    <tr>\n",
       "      <th>payment</th>\n",
       "      <td>7043</td>\n",
       "      <td>3</td>\n",
       "      <td>Bank Withdrawal</td>\n",
       "      <td>3909</td>\n",
       "    </tr>\n",
       "  </tbody>\n",
       "</table>\n",
       "</div>"
      ],
      "text/plain": [
       "              count unique              top  freq\n",
       "offer          7043      6             None  3877\n",
       "multiple       7043      2               No  4072\n",
       "internet_type  7043      4      Fiber Optic  3035\n",
       "security       7043      2               No  5024\n",
       "backup         7043      2               No  4614\n",
       "protection     7043      2               No  4621\n",
       "support        7043      2               No  4999\n",
       "unlimited      7043      2              Yes  4745\n",
       "contract       7043      3   Month-to-Month  3610\n",
       "paperless      7043      2              Yes  4171\n",
       "payment        7043      3  Bank Withdrawal  3909"
      ]
     },
     "execution_count": 9,
     "metadata": {},
     "output_type": "execute_result"
    }
   ],
   "source": [
    "# Similarly, let's include the object data types in our description\n",
    "df.describe(include='object').T"
   ]
  },
  {
   "cell_type": "markdown",
   "id": "6e088e41",
   "metadata": {},
   "source": [
    "#### Unique values "
   ]
  },
  {
   "cell_type": "markdown",
   "id": "0e6b0100",
   "metadata": {},
   "source": [
    "Like in the demo, let's now preprocess variables based on whether these are 1) binary, 2) categorical but not ordinal, 3) categorical and ordinal and 4) numeric. We'll follow the same steps of the demo. "
   ]
  },
  {
   "cell_type": "code",
   "execution_count": 10,
   "id": "0410d6d8",
   "metadata": {},
   "outputs": [
    {
     "data": {
      "text/html": [
       "<div>\n",
       "<style scoped>\n",
       "    .dataframe tbody tr th:only-of-type {\n",
       "        vertical-align: middle;\n",
       "    }\n",
       "\n",
       "    .dataframe tbody tr th {\n",
       "        vertical-align: top;\n",
       "    }\n",
       "\n",
       "    .dataframe thead th {\n",
       "        text-align: right;\n",
       "    }\n",
       "</style>\n",
       "<table border=\"1\" class=\"dataframe\">\n",
       "  <thead>\n",
       "    <tr style=\"text-align: right;\">\n",
       "      <th></th>\n",
       "      <th>Unique Values</th>\n",
       "    </tr>\n",
       "    <tr>\n",
       "      <th>Variable</th>\n",
       "      <th></th>\n",
       "    </tr>\n",
       "  </thead>\n",
       "  <tbody>\n",
       "    <tr>\n",
       "      <th>months</th>\n",
       "      <td>72</td>\n",
       "    </tr>\n",
       "    <tr>\n",
       "      <th>offer</th>\n",
       "      <td>6</td>\n",
       "    </tr>\n",
       "    <tr>\n",
       "      <th>multiple</th>\n",
       "      <td>2</td>\n",
       "    </tr>\n",
       "    <tr>\n",
       "      <th>internet_type</th>\n",
       "      <td>4</td>\n",
       "    </tr>\n",
       "    <tr>\n",
       "      <th>gb_mon</th>\n",
       "      <td>50</td>\n",
       "    </tr>\n",
       "    <tr>\n",
       "      <th>security</th>\n",
       "      <td>2</td>\n",
       "    </tr>\n",
       "    <tr>\n",
       "      <th>backup</th>\n",
       "      <td>2</td>\n",
       "    </tr>\n",
       "    <tr>\n",
       "      <th>protection</th>\n",
       "      <td>2</td>\n",
       "    </tr>\n",
       "    <tr>\n",
       "      <th>support</th>\n",
       "      <td>2</td>\n",
       "    </tr>\n",
       "    <tr>\n",
       "      <th>unlimited</th>\n",
       "      <td>2</td>\n",
       "    </tr>\n",
       "    <tr>\n",
       "      <th>contract</th>\n",
       "      <td>3</td>\n",
       "    </tr>\n",
       "    <tr>\n",
       "      <th>paperless</th>\n",
       "      <td>2</td>\n",
       "    </tr>\n",
       "    <tr>\n",
       "      <th>payment</th>\n",
       "      <td>3</td>\n",
       "    </tr>\n",
       "    <tr>\n",
       "      <th>monthly</th>\n",
       "      <td>1585</td>\n",
       "    </tr>\n",
       "    <tr>\n",
       "      <th>satisfaction</th>\n",
       "      <td>5</td>\n",
       "    </tr>\n",
       "    <tr>\n",
       "      <th>churn_value</th>\n",
       "      <td>2</td>\n",
       "    </tr>\n",
       "  </tbody>\n",
       "</table>\n",
       "</div>"
      ],
      "text/plain": [
       "               Unique Values\n",
       "Variable                    \n",
       "months                    72\n",
       "offer                      6\n",
       "multiple                   2\n",
       "internet_type              4\n",
       "gb_mon                    50\n",
       "security                   2\n",
       "backup                     2\n",
       "protection                 2\n",
       "support                    2\n",
       "unlimited                  2\n",
       "contract                   3\n",
       "paperless                  2\n",
       "payment                    3\n",
       "monthly                 1585\n",
       "satisfaction               5\n",
       "churn_value                2"
      ]
     },
     "execution_count": 10,
     "metadata": {},
     "output_type": "execute_result"
    }
   ],
   "source": [
    "# This code cell was adapted from the KNN Demo (first: identify unique values per column)\n",
    "unique_values = pd.DataFrame([ [i, len(df[i].unique()) ] for i in df.columns], columns=['Variable', 'Unique Values']).set_index('Variable')\n",
    "unique_values"
   ]
  },
  {
   "cell_type": "markdown",
   "id": "bac117ac",
   "metadata": {},
   "source": [
    "#### Binary variables "
   ]
  },
  {
   "cell_type": "markdown",
   "id": "f78a1d74",
   "metadata": {},
   "source": [
    "Let's start by first identifying the binary variables."
   ]
  },
  {
   "cell_type": "code",
   "execution_count": 11,
   "id": "a762ba8a",
   "metadata": {},
   "outputs": [
    {
     "data": {
      "text/html": [
       "<div>\n",
       "<style scoped>\n",
       "    .dataframe tbody tr th:only-of-type {\n",
       "        vertical-align: middle;\n",
       "    }\n",
       "\n",
       "    .dataframe tbody tr th {\n",
       "        vertical-align: top;\n",
       "    }\n",
       "\n",
       "    .dataframe thead th {\n",
       "        text-align: right;\n",
       "    }\n",
       "</style>\n",
       "<table border=\"1\" class=\"dataframe\">\n",
       "  <thead>\n",
       "    <tr style=\"text-align: right;\">\n",
       "      <th></th>\n",
       "      <th>Unique Values</th>\n",
       "    </tr>\n",
       "    <tr>\n",
       "      <th>Variable</th>\n",
       "      <th></th>\n",
       "    </tr>\n",
       "  </thead>\n",
       "  <tbody>\n",
       "    <tr>\n",
       "      <th>multiple</th>\n",
       "      <td>2</td>\n",
       "    </tr>\n",
       "    <tr>\n",
       "      <th>security</th>\n",
       "      <td>2</td>\n",
       "    </tr>\n",
       "    <tr>\n",
       "      <th>backup</th>\n",
       "      <td>2</td>\n",
       "    </tr>\n",
       "    <tr>\n",
       "      <th>protection</th>\n",
       "      <td>2</td>\n",
       "    </tr>\n",
       "    <tr>\n",
       "      <th>support</th>\n",
       "      <td>2</td>\n",
       "    </tr>\n",
       "    <tr>\n",
       "      <th>unlimited</th>\n",
       "      <td>2</td>\n",
       "    </tr>\n",
       "    <tr>\n",
       "      <th>paperless</th>\n",
       "      <td>2</td>\n",
       "    </tr>\n",
       "    <tr>\n",
       "      <th>churn_value</th>\n",
       "      <td>2</td>\n",
       "    </tr>\n",
       "  </tbody>\n",
       "</table>\n",
       "</div>"
      ],
      "text/plain": [
       "             Unique Values\n",
       "Variable                  \n",
       "multiple                 2\n",
       "security                 2\n",
       "backup                   2\n",
       "protection               2\n",
       "support                  2\n",
       "unlimited                2\n",
       "paperless                2\n",
       "churn_value              2"
      ]
     },
     "execution_count": 11,
     "metadata": {},
     "output_type": "execute_result"
    }
   ],
   "source": [
    "# The following cell was adapted from the KNN Demo\n",
    "unique_values[unique_values['Unique Values'] == 2]"
   ]
  },
  {
   "cell_type": "code",
   "execution_count": 12,
   "id": "8c3eca69",
   "metadata": {},
   "outputs": [
    {
     "data": {
      "text/plain": [
       "['multiple',\n",
       " 'security',\n",
       " 'backup',\n",
       " 'protection',\n",
       " 'support',\n",
       " 'unlimited',\n",
       " 'paperless',\n",
       " 'churn_value']"
      ]
     },
     "execution_count": 12,
     "metadata": {},
     "output_type": "execute_result"
    }
   ],
   "source": [
    "# Let's store the name of the binary variables in a list, just like in the KNN Demo (this cell was also adapted from the demo).\n",
    "binary_variables_list = list(unique_values[unique_values['Unique Values'] == 2].index)\n",
    "binary_variables_list"
   ]
  },
  {
   "cell_type": "markdown",
   "id": "cd08f9f6",
   "metadata": {},
   "source": [
    "#### Categorical variables "
   ]
  },
  {
   "cell_type": "markdown",
   "id": "56d6392d",
   "metadata": {},
   "source": [
    "Next, let's gather the names of the categorical variables. For this, let's use the same criterion as the one used in the KNN Demo."
   ]
  },
  {
   "cell_type": "code",
   "execution_count": 13,
   "id": "c6a6687c",
   "metadata": {},
   "outputs": [
    {
     "data": {
      "text/html": [
       "<div>\n",
       "<style scoped>\n",
       "    .dataframe tbody tr th:only-of-type {\n",
       "        vertical-align: middle;\n",
       "    }\n",
       "\n",
       "    .dataframe tbody tr th {\n",
       "        vertical-align: top;\n",
       "    }\n",
       "\n",
       "    .dataframe thead th {\n",
       "        text-align: right;\n",
       "    }\n",
       "</style>\n",
       "<table border=\"1\" class=\"dataframe\">\n",
       "  <thead>\n",
       "    <tr style=\"text-align: right;\">\n",
       "      <th></th>\n",
       "      <th>Unique Values</th>\n",
       "    </tr>\n",
       "    <tr>\n",
       "      <th>Variable</th>\n",
       "      <th></th>\n",
       "    </tr>\n",
       "  </thead>\n",
       "  <tbody>\n",
       "    <tr>\n",
       "      <th>offer</th>\n",
       "      <td>6</td>\n",
       "    </tr>\n",
       "    <tr>\n",
       "      <th>internet_type</th>\n",
       "      <td>4</td>\n",
       "    </tr>\n",
       "    <tr>\n",
       "      <th>contract</th>\n",
       "      <td>3</td>\n",
       "    </tr>\n",
       "    <tr>\n",
       "      <th>payment</th>\n",
       "      <td>3</td>\n",
       "    </tr>\n",
       "    <tr>\n",
       "      <th>satisfaction</th>\n",
       "      <td>5</td>\n",
       "    </tr>\n",
       "  </tbody>\n",
       "</table>\n",
       "</div>"
      ],
      "text/plain": [
       "               Unique Values\n",
       "Variable                    \n",
       "offer                      6\n",
       "internet_type              4\n",
       "contract                   3\n",
       "payment                    3\n",
       "satisfaction               5"
      ]
     },
     "execution_count": 13,
     "metadata": {},
     "output_type": "execute_result"
    }
   ],
   "source": [
    "# This cell was adapted from the KNN Demo.\n",
    "unique_values[(6 >= unique_values['Unique Values']) & (unique_values['Unique Values'] > 2)]"
   ]
  },
  {
   "cell_type": "code",
   "execution_count": 14,
   "id": "09ceaebb",
   "metadata": {},
   "outputs": [
    {
     "data": {
      "text/plain": [
       "['offer', 'internet_type', 'contract', 'payment', 'satisfaction']"
      ]
     },
     "execution_count": 14,
     "metadata": {},
     "output_type": "execute_result"
    }
   ],
   "source": [
    "# This cell was also adapted from the KNN Demo.\n",
    "categorical_variables_list = list(unique_values[(6 >= unique_values['Unique Values']) & (unique_values['Unique Values'] > 2)].index)\n",
    "categorical_variables_list"
   ]
  },
  {
   "cell_type": "markdown",
   "id": "cbb7fafc",
   "metadata": {},
   "source": [
    "#### Ordinal variables "
   ]
  },
  {
   "cell_type": "markdown",
   "id": "c7e6d892",
   "metadata": {},
   "source": [
    "Like in the KNN Demo, let's inspect in a bit more detail the values of the categorical variables list to identify the ordinal ones. "
   ]
  },
  {
   "cell_type": "code",
   "execution_count": 15,
   "id": "8650bea2",
   "metadata": {},
   "outputs": [
    {
     "data": {
      "text/plain": [
       "[['offer', ['None', 'Offer E', 'Offer D', 'Offer C', 'Offer B', 'Offer A']],\n",
       " ['internet_type', ['DSL', 'Fiber Optic', 'Cable', 'None']],\n",
       " ['contract', ['Month-to-Month', 'One Year', 'Two Year']],\n",
       " ['payment', ['Bank Withdrawal', 'Credit Card', 'Mailed Check']],\n",
       " ['satisfaction', [3, 2, 1, 4, 5]]]"
      ]
     },
     "execution_count": 15,
     "metadata": {},
     "output_type": "execute_result"
    }
   ],
   "source": [
    "# This cell was adapted from the KNN Demo.\n",
    "[[i, list(df[i].unique())] for i in categorical_variables_list]"
   ]
  },
  {
   "cell_type": "markdown",
   "id": "eab4047b",
   "metadata": {},
   "source": [
    "As we can see, based on the values of the categorical variables above, 'contract' and 'satisfaction' can be treated as ordinal variables (as seen in the KNN Demo as well).\n",
    "\n",
    "Also, the variable 'months' can be treated as an ordinal variable. Let's append it to the list we'll create below, just like in the KNN Demo."
   ]
  },
  {
   "cell_type": "code",
   "execution_count": 16,
   "id": "f52ad910",
   "metadata": {},
   "outputs": [
    {
     "data": {
      "text/plain": [
       "['contract', 'satisfaction', 'months']"
      ]
     },
     "execution_count": 16,
     "metadata": {},
     "output_type": "execute_result"
    }
   ],
   "source": [
    "# This cell was adapted from the KNN Demo.\n",
    "ordinal_variables_list = ['contract', 'satisfaction']\n",
    "ordinal_variables_list.append('months')\n",
    "ordinal_variables_list"
   ]
  },
  {
   "cell_type": "markdown",
   "id": "2f85c128",
   "metadata": {},
   "source": [
    "#### Numeric variables "
   ]
  },
  {
   "cell_type": "markdown",
   "id": "ec93217e",
   "metadata": {},
   "source": [
    "Next, we'll use set subtraction to get our numeric variables list, just like in the KNN Demo (these will be the variables we'll treat as numeric in this project)."
   ]
  },
  {
   "cell_type": "code",
   "execution_count": 17,
   "id": "5d243f6f",
   "metadata": {},
   "outputs": [
    {
     "data": {
      "text/plain": [
       "['gb_mon', 'monthly']"
      ]
     },
     "execution_count": 17,
     "metadata": {},
     "output_type": "execute_result"
    }
   ],
   "source": [
    "# This cell was adapted from the KNN Demo (set subtraction).\n",
    "numeric_variables_list = list(set(df.columns) - set(ordinal_variables_list) - set(categorical_variables_list) - set(binary_variables_list))\n",
    "numeric_variables_list"
   ]
  },
  {
   "cell_type": "code",
   "execution_count": 18,
   "id": "3dbc0a92",
   "metadata": {},
   "outputs": [
    {
     "data": {
      "text/plain": [
       "array([[<AxesSubplot:title={'center':'gb_mon'}>,\n",
       "        <AxesSubplot:title={'center':'monthly'}>]], dtype=object)"
      ]
     },
     "execution_count": 18,
     "metadata": {},
     "output_type": "execute_result"
    },
    {
     "data": {
      "image/png": "[encoded data removed]",
      "text/plain": [
       "<Figure size 864x432 with 2 Axes>"
      ]
     },
     "metadata": {
      "needs_background": "light"
     },
     "output_type": "display_data"
    }
   ],
   "source": [
    "# We can also take a look at their histograms, like in the KNN Demo (this cell was also adapted from that notebook).\n",
    "df[numeric_variables_list].hist(color=colors[0], figsize=(12, 6))"
   ]
  },
  {
   "cell_type": "markdown",
   "id": "4cf438dd",
   "metadata": {},
   "source": [
    "#### Create bins for the variable 'months' (ordinal) "
   ]
  },
  {
   "cell_type": "code",
   "execution_count": 19,
   "id": "eefc1dd0",
   "metadata": {},
   "outputs": [],
   "source": [
    "# Finally, let's create bins for the variable 'months', like in the KNN Demo.\n",
    "df['months'] = pd.cut(df['months'], bins=5)"
   ]
  },
  {
   "cell_type": "code",
   "execution_count": 20,
   "id": "dd0819c5",
   "metadata": {},
   "outputs": [
    {
     "data": {
      "text/plain": [
       "0       (0.929, 15.2]\n",
       "1       (0.929, 15.2]\n",
       "2        (15.2, 29.4]\n",
       "3        (15.2, 29.4]\n",
       "4        (29.4, 43.6]\n",
       "            ...      \n",
       "7038     (57.8, 72.0]\n",
       "7039     (15.2, 29.4]\n",
       "7040     (57.8, 72.0]\n",
       "7041    (0.929, 15.2]\n",
       "7042     (57.8, 72.0]\n",
       "Name: months, Length: 7043, dtype: category\n",
       "Categories (5, interval[float64]): [(0.929, 15.2] < (15.2, 29.4] < (29.4, 43.6] < (43.6, 57.8] < (57.8, 72.0]]"
      ]
     },
     "execution_count": 20,
     "metadata": {},
     "output_type": "execute_result"
    }
   ],
   "source": [
    "# Let's inspect the variable 'months' now.\n",
    "df['months']"
   ]
  },
  {
   "cell_type": "code",
   "execution_count": 21,
   "id": "74b1cb97",
   "metadata": {},
   "outputs": [
    {
     "data": {
      "text/plain": [
       "[(0.929, 15.2], (15.2, 29.4], (29.4, 43.6], (57.8, 72.0], (43.6, 57.8]]\n",
       "Categories (5, interval[float64]): [(0.929, 15.2] < (15.2, 29.4] < (29.4, 43.6] < (43.6, 57.8] < (57.8, 72.0]]"
      ]
     },
     "execution_count": 21,
     "metadata": {},
     "output_type": "execute_result"
    }
   ],
   "source": [
    "# Let's take a closer look at the bins.\n",
    "df['months'].unique()"
   ]
  },
  {
   "cell_type": "markdown",
   "id": "4713dc31",
   "metadata": {},
   "source": [
    "#### Encoding ordinal variables "
   ]
  },
  {
   "cell_type": "markdown",
   "id": "2f9ff7d3",
   "metadata": {},
   "source": [
    "Next, just like in the KNN Demo, let's focus on encoding and scaling the data. We'll follow the same steps from the demo here."
   ]
  },
  {
   "cell_type": "code",
   "execution_count": 23,
   "id": "d33e39cf",
   "metadata": {},
   "outputs": [],
   "source": [
    "# This code cell was adapted from the KNN Demo.\n",
    "# Let's treat \n",
    "from sklearn.preprocessing import LabelBinarizer, LabelEncoder, OrdinalEncoder\n",
    "lb, le = LabelBinarizer(), LabelEncoder()\n",
    "for column in ordinal_variables_list:\n",
    "    df[column] = le.fit_transform(df[column])"
   ]
  },
  {
   "cell_type": "code",
   "execution_count": 29,
   "id": "4f1c5dab",
   "metadata": {},
   "outputs": [
    {
     "data": {
      "text/plain": [
       "0       2\n",
       "1       2\n",
       "2       1\n",
       "3       1\n",
       "4       1\n",
       "       ..\n",
       "7038    4\n",
       "7039    2\n",
       "7040    3\n",
       "7041    3\n",
       "7042    3\n",
       "Name: satisfaction, Length: 7043, dtype: int64"
      ]
     },
     "execution_count": 29,
     "metadata": {},
     "output_type": "execute_result"
    }
   ],
   "source": [
    "# Let's take a look at one of our ordinal variables\n",
    "#df['months']\n",
    "#df['contract']\n",
    "df['satisfaction']"
   ]
  },
  {
   "cell_type": "markdown",
   "id": "88de5be6",
   "metadata": {},
   "source": [
    "#### Encoding binary variables "
   ]
  },
  {
   "cell_type": "code",
   "execution_count": 33,
   "id": "65b0cb2a",
   "metadata": {},
   "outputs": [],
   "source": [
    "# Let's also encode the binary variables, just like in the demo (this code cell was also adapted from it).\n",
    "for column in binary_variables_list:\n",
    "    df[column] = lb.fit_transform(df[column])"
   ]
  },
  {
   "cell_type": "code",
   "execution_count": 34,
   "id": "86e3d710",
   "metadata": {},
   "outputs": [
    {
     "data": {
      "text/plain": [
       "0       0\n",
       "1       1\n",
       "2       1\n",
       "3       0\n",
       "4       1\n",
       "       ..\n",
       "7038    0\n",
       "7039    1\n",
       "7040    1\n",
       "7041    0\n",
       "7042    0\n",
       "Name: multiple, Length: 7043, dtype: int32"
      ]
     },
     "execution_count": 34,
     "metadata": {},
     "output_type": "execute_result"
    }
   ],
   "source": [
    "# Let's take a look at one of our binary variables now\n",
    "df['multiple']"
   ]
  },
  {
   "cell_type": "markdown",
   "id": "a5afd866",
   "metadata": {},
   "source": [
    "#### Encoding other categorical variables "
   ]
  },
  {
   "cell_type": "code",
   "execution_count": 38,
   "id": "0359c5db",
   "metadata": {},
   "outputs": [],
   "source": [
    "# This code cell was adapted from the KNN Demo\n",
    "# 'contract' and 'satisfaction' are part of our ordinal_variables_list\n",
    "categorical_variables_list = list(set(categorical_variables_list) - set(ordinal_variables_list))\n",
    "df = pd.get_dummies(df, columns = categorical_variables_list, drop_first=True)"
   ]
  },
  {
   "cell_type": "code",
   "execution_count": 40,
   "id": "0a6b91c1",
   "metadata": {},
   "outputs": [
    {
     "data": {
      "text/plain": [
       "['internet_type', 'payment', 'offer']"
      ]
     },
     "execution_count": 40,
     "metadata": {},
     "output_type": "execute_result"
    }
   ],
   "source": [
    "categorical_variables_list"
   ]
  },
  {
   "cell_type": "markdown",
   "id": "58a9d7b8",
   "metadata": {},
   "source": [
    "#### Inspecting our data set  "
   ]
  },
  {
   "cell_type": "markdown",
   "id": "e18c870d",
   "metadata": {},
   "source": [
    "Let's take a look at the current state of our data set."
   ]
  },
  {
   "cell_type": "code",
   "execution_count": 39,
   "id": "e1b70455",
   "metadata": {},
   "outputs": [
    {
     "data": {
      "text/html": [
       "<div>\n",
       "<style scoped>\n",
       "    .dataframe tbody tr th:only-of-type {\n",
       "        vertical-align: middle;\n",
       "    }\n",
       "\n",
       "    .dataframe tbody tr th {\n",
       "        vertical-align: top;\n",
       "    }\n",
       "\n",
       "    .dataframe thead th {\n",
       "        text-align: right;\n",
       "    }\n",
       "</style>\n",
       "<table border=\"1\" class=\"dataframe\">\n",
       "  <thead>\n",
       "    <tr style=\"text-align: right;\">\n",
       "      <th></th>\n",
       "      <th>months</th>\n",
       "      <th>multiple</th>\n",
       "      <th>gb_mon</th>\n",
       "      <th>security</th>\n",
       "      <th>backup</th>\n",
       "      <th>protection</th>\n",
       "      <th>support</th>\n",
       "      <th>unlimited</th>\n",
       "      <th>contract</th>\n",
       "      <th>paperless</th>\n",
       "      <th>...</th>\n",
       "      <th>internet_type_DSL</th>\n",
       "      <th>internet_type_Fiber Optic</th>\n",
       "      <th>internet_type_None</th>\n",
       "      <th>payment_Credit Card</th>\n",
       "      <th>payment_Mailed Check</th>\n",
       "      <th>offer_Offer A</th>\n",
       "      <th>offer_Offer B</th>\n",
       "      <th>offer_Offer C</th>\n",
       "      <th>offer_Offer D</th>\n",
       "      <th>offer_Offer E</th>\n",
       "    </tr>\n",
       "  </thead>\n",
       "  <tbody>\n",
       "    <tr>\n",
       "      <th>0</th>\n",
       "      <td>0</td>\n",
       "      <td>0</td>\n",
       "      <td>8</td>\n",
       "      <td>0</td>\n",
       "      <td>0</td>\n",
       "      <td>1</td>\n",
       "      <td>0</td>\n",
       "      <td>0</td>\n",
       "      <td>0</td>\n",
       "      <td>1</td>\n",
       "      <td>...</td>\n",
       "      <td>1</td>\n",
       "      <td>0</td>\n",
       "      <td>0</td>\n",
       "      <td>0</td>\n",
       "      <td>0</td>\n",
       "      <td>0</td>\n",
       "      <td>0</td>\n",
       "      <td>0</td>\n",
       "      <td>0</td>\n",
       "      <td>0</td>\n",
       "    </tr>\n",
       "    <tr>\n",
       "      <th>1</th>\n",
       "      <td>0</td>\n",
       "      <td>1</td>\n",
       "      <td>17</td>\n",
       "      <td>0</td>\n",
       "      <td>1</td>\n",
       "      <td>0</td>\n",
       "      <td>0</td>\n",
       "      <td>1</td>\n",
       "      <td>0</td>\n",
       "      <td>1</td>\n",
       "      <td>...</td>\n",
       "      <td>0</td>\n",
       "      <td>1</td>\n",
       "      <td>0</td>\n",
       "      <td>1</td>\n",
       "      <td>0</td>\n",
       "      <td>0</td>\n",
       "      <td>0</td>\n",
       "      <td>0</td>\n",
       "      <td>0</td>\n",
       "      <td>1</td>\n",
       "    </tr>\n",
       "    <tr>\n",
       "      <th>2</th>\n",
       "      <td>1</td>\n",
       "      <td>1</td>\n",
       "      <td>52</td>\n",
       "      <td>0</td>\n",
       "      <td>0</td>\n",
       "      <td>0</td>\n",
       "      <td>0</td>\n",
       "      <td>1</td>\n",
       "      <td>0</td>\n",
       "      <td>1</td>\n",
       "      <td>...</td>\n",
       "      <td>0</td>\n",
       "      <td>1</td>\n",
       "      <td>0</td>\n",
       "      <td>0</td>\n",
       "      <td>0</td>\n",
       "      <td>0</td>\n",
       "      <td>0</td>\n",
       "      <td>0</td>\n",
       "      <td>1</td>\n",
       "      <td>0</td>\n",
       "    </tr>\n",
       "    <tr>\n",
       "      <th>3</th>\n",
       "      <td>1</td>\n",
       "      <td>0</td>\n",
       "      <td>12</td>\n",
       "      <td>0</td>\n",
       "      <td>1</td>\n",
       "      <td>1</td>\n",
       "      <td>0</td>\n",
       "      <td>1</td>\n",
       "      <td>0</td>\n",
       "      <td>1</td>\n",
       "      <td>...</td>\n",
       "      <td>0</td>\n",
       "      <td>1</td>\n",
       "      <td>0</td>\n",
       "      <td>0</td>\n",
       "      <td>0</td>\n",
       "      <td>0</td>\n",
       "      <td>0</td>\n",
       "      <td>1</td>\n",
       "      <td>0</td>\n",
       "      <td>0</td>\n",
       "    </tr>\n",
       "    <tr>\n",
       "      <th>4</th>\n",
       "      <td>2</td>\n",
       "      <td>1</td>\n",
       "      <td>14</td>\n",
       "      <td>0</td>\n",
       "      <td>0</td>\n",
       "      <td>0</td>\n",
       "      <td>0</td>\n",
       "      <td>1</td>\n",
       "      <td>0</td>\n",
       "      <td>1</td>\n",
       "      <td>...</td>\n",
       "      <td>0</td>\n",
       "      <td>1</td>\n",
       "      <td>0</td>\n",
       "      <td>0</td>\n",
       "      <td>0</td>\n",
       "      <td>0</td>\n",
       "      <td>0</td>\n",
       "      <td>1</td>\n",
       "      <td>0</td>\n",
       "      <td>0</td>\n",
       "    </tr>\n",
       "  </tbody>\n",
       "</table>\n",
       "<p>5 rows × 23 columns</p>\n",
       "</div>"
      ],
      "text/plain": [
       "   months  multiple  gb_mon  security  backup  protection  support  unlimited  \\\n",
       "0       0         0       8         0       0           1        0          0   \n",
       "1       0         1      17         0       1           0        0          1   \n",
       "2       1         1      52         0       0           0        0          1   \n",
       "3       1         0      12         0       1           1        0          1   \n",
       "4       2         1      14         0       0           0        0          1   \n",
       "\n",
       "   contract  paperless  ...  internet_type_DSL  internet_type_Fiber Optic  \\\n",
       "0         0          1  ...                  1                          0   \n",
       "1         0          1  ...                  0                          1   \n",
       "2         0          1  ...                  0                          1   \n",
       "3         0          1  ...                  0                          1   \n",
       "4         0          1  ...                  0                          1   \n",
       "\n",
       "   internet_type_None  payment_Credit Card  payment_Mailed Check  \\\n",
       "0                   0                    0                     0   \n",
       "1                   0                    1                     0   \n",
       "2                   0                    0                     0   \n",
       "3                   0                    0                     0   \n",
       "4                   0                    0                     0   \n",
       "\n",
       "   offer_Offer A  offer_Offer B  offer_Offer C  offer_Offer D  offer_Offer E  \n",
       "0              0              0              0              0              0  \n",
       "1              0              0              0              0              1  \n",
       "2              0              0              0              1              0  \n",
       "3              0              0              1              0              0  \n",
       "4              0              0              1              0              0  \n",
       "\n",
       "[5 rows x 23 columns]"
      ]
     },
     "execution_count": 39,
     "metadata": {},
     "output_type": "execute_result"
    }
   ],
   "source": [
    "df.head()"
   ]
  },
  {
   "cell_type": "code",
   "execution_count": 41,
   "id": "4b8eed02",
   "metadata": {},
   "outputs": [
    {
     "data": {
      "text/plain": [
       "months                         int32\n",
       "multiple                       int32\n",
       "gb_mon                         int64\n",
       "security                       int32\n",
       "backup                         int32\n",
       "protection                     int32\n",
       "support                        int32\n",
       "unlimited                      int32\n",
       "contract                       int32\n",
       "paperless                      int32\n",
       "monthly                      float64\n",
       "satisfaction                   int64\n",
       "churn_value                    int32\n",
       "internet_type_DSL              uint8\n",
       "internet_type_Fiber Optic      uint8\n",
       "internet_type_None             uint8\n",
       "payment_Credit Card            uint8\n",
       "payment_Mailed Check           uint8\n",
       "offer_Offer A                  uint8\n",
       "offer_Offer B                  uint8\n",
       "offer_Offer C                  uint8\n",
       "offer_Offer D                  uint8\n",
       "offer_Offer E                  uint8\n",
       "dtype: object"
      ]
     },
     "execution_count": 41,
     "metadata": {},
     "output_type": "execute_result"
    }
   ],
   "source": [
    "df.dtypes"
   ]
  },
  {
   "cell_type": "markdown",
   "id": "58e08d05",
   "metadata": {},
   "source": [
    "#### Scaling numerical and ordinal variables "
   ]
  },
  {
   "cell_type": "markdown",
   "id": "5d75b2a3",
   "metadata": {},
   "source": [
    "Let's now use MinMaxScaler() like in the KNN Demo to scale our numerical and ordinal variables. "
   ]
  },
  {
   "cell_type": "code",
   "execution_count": 42,
   "id": "f8e33d7a",
   "metadata": {},
   "outputs": [],
   "source": [
    "# This code cell was adapted from the KNN demo.\n",
    "from sklearn.preprocessing import MinMaxScaler\n",
    "mm = MinMaxScaler()\n",
    "for column in [ordinal_variables_list + numeric_variables_list]:\n",
    "    df[column] = mm.fit_transform(df[column])"
   ]
  },
  {
   "cell_type": "markdown",
   "id": "a4cb8187",
   "metadata": {},
   "source": [
    "#### Inspecting our data set "
   ]
  },
  {
   "cell_type": "code",
   "execution_count": 6,
   "id": "035132ba",
   "metadata": {},
   "outputs": [
    {
     "data": {
      "text/html": [
       "<div>\n",
       "<style scoped>\n",
       "    .dataframe tbody tr th:only-of-type {\n",
       "        vertical-align: middle;\n",
       "    }\n",
       "\n",
       "    .dataframe tbody tr th {\n",
       "        vertical-align: top;\n",
       "    }\n",
       "\n",
       "    .dataframe thead th {\n",
       "        text-align: right;\n",
       "    }\n",
       "</style>\n",
       "<table border=\"1\" class=\"dataframe\">\n",
       "  <thead>\n",
       "    <tr style=\"text-align: right;\">\n",
       "      <th></th>\n",
       "      <th>months</th>\n",
       "      <th>multiple</th>\n",
       "      <th>gb_mon</th>\n",
       "      <th>security</th>\n",
       "      <th>backup</th>\n",
       "      <th>protection</th>\n",
       "      <th>support</th>\n",
       "      <th>unlimited</th>\n",
       "      <th>contract</th>\n",
       "      <th>paperless</th>\n",
       "      <th>...</th>\n",
       "      <th>internet_type_DSL</th>\n",
       "      <th>internet_type_Fiber Optic</th>\n",
       "      <th>internet_type_None</th>\n",
       "      <th>payment_Credit Card</th>\n",
       "      <th>payment_Mailed Check</th>\n",
       "      <th>offer_Offer A</th>\n",
       "      <th>offer_Offer B</th>\n",
       "      <th>offer_Offer C</th>\n",
       "      <th>offer_Offer D</th>\n",
       "      <th>offer_Offer E</th>\n",
       "    </tr>\n",
       "  </thead>\n",
       "  <tbody>\n",
       "    <tr>\n",
       "      <th>0</th>\n",
       "      <td>0.00</td>\n",
       "      <td>0</td>\n",
       "      <td>0.094118</td>\n",
       "      <td>0</td>\n",
       "      <td>0</td>\n",
       "      <td>1</td>\n",
       "      <td>0</td>\n",
       "      <td>0</td>\n",
       "      <td>0.0</td>\n",
       "      <td>1</td>\n",
       "      <td>...</td>\n",
       "      <td>1</td>\n",
       "      <td>0</td>\n",
       "      <td>0</td>\n",
       "      <td>0</td>\n",
       "      <td>0</td>\n",
       "      <td>0</td>\n",
       "      <td>0</td>\n",
       "      <td>0</td>\n",
       "      <td>0</td>\n",
       "      <td>0</td>\n",
       "    </tr>\n",
       "    <tr>\n",
       "      <th>1</th>\n",
       "      <td>0.00</td>\n",
       "      <td>1</td>\n",
       "      <td>0.200000</td>\n",
       "      <td>0</td>\n",
       "      <td>1</td>\n",
       "      <td>0</td>\n",
       "      <td>0</td>\n",
       "      <td>1</td>\n",
       "      <td>0.0</td>\n",
       "      <td>1</td>\n",
       "      <td>...</td>\n",
       "      <td>0</td>\n",
       "      <td>1</td>\n",
       "      <td>0</td>\n",
       "      <td>1</td>\n",
       "      <td>0</td>\n",
       "      <td>0</td>\n",
       "      <td>0</td>\n",
       "      <td>0</td>\n",
       "      <td>0</td>\n",
       "      <td>1</td>\n",
       "    </tr>\n",
       "    <tr>\n",
       "      <th>2</th>\n",
       "      <td>0.25</td>\n",
       "      <td>1</td>\n",
       "      <td>0.611765</td>\n",
       "      <td>0</td>\n",
       "      <td>0</td>\n",
       "      <td>0</td>\n",
       "      <td>0</td>\n",
       "      <td>1</td>\n",
       "      <td>0.0</td>\n",
       "      <td>1</td>\n",
       "      <td>...</td>\n",
       "      <td>0</td>\n",
       "      <td>1</td>\n",
       "      <td>0</td>\n",
       "      <td>0</td>\n",
       "      <td>0</td>\n",
       "      <td>0</td>\n",
       "      <td>0</td>\n",
       "      <td>0</td>\n",
       "      <td>1</td>\n",
       "      <td>0</td>\n",
       "    </tr>\n",
       "    <tr>\n",
       "      <th>3</th>\n",
       "      <td>0.25</td>\n",
       "      <td>0</td>\n",
       "      <td>0.141176</td>\n",
       "      <td>0</td>\n",
       "      <td>1</td>\n",
       "      <td>1</td>\n",
       "      <td>0</td>\n",
       "      <td>1</td>\n",
       "      <td>0.0</td>\n",
       "      <td>1</td>\n",
       "      <td>...</td>\n",
       "      <td>0</td>\n",
       "      <td>1</td>\n",
       "      <td>0</td>\n",
       "      <td>0</td>\n",
       "      <td>0</td>\n",
       "      <td>0</td>\n",
       "      <td>0</td>\n",
       "      <td>1</td>\n",
       "      <td>0</td>\n",
       "      <td>0</td>\n",
       "    </tr>\n",
       "    <tr>\n",
       "      <th>4</th>\n",
       "      <td>0.50</td>\n",
       "      <td>1</td>\n",
       "      <td>0.164706</td>\n",
       "      <td>0</td>\n",
       "      <td>0</td>\n",
       "      <td>0</td>\n",
       "      <td>0</td>\n",
       "      <td>1</td>\n",
       "      <td>0.0</td>\n",
       "      <td>1</td>\n",
       "      <td>...</td>\n",
       "      <td>0</td>\n",
       "      <td>1</td>\n",
       "      <td>0</td>\n",
       "      <td>0</td>\n",
       "      <td>0</td>\n",
       "      <td>0</td>\n",
       "      <td>0</td>\n",
       "      <td>1</td>\n",
       "      <td>0</td>\n",
       "      <td>0</td>\n",
       "    </tr>\n",
       "  </tbody>\n",
       "</table>\n",
       "<p>5 rows × 23 columns</p>\n",
       "</div>"
      ],
      "text/plain": [
       "   months  multiple    gb_mon  security  backup  protection  support  \\\n",
       "0    0.00         0  0.094118         0       0           1        0   \n",
       "1    0.00         1  0.200000         0       1           0        0   \n",
       "2    0.25         1  0.611765         0       0           0        0   \n",
       "3    0.25         0  0.141176         0       1           1        0   \n",
       "4    0.50         1  0.164706         0       0           0        0   \n",
       "\n",
       "   unlimited  contract  paperless  ...  internet_type_DSL  \\\n",
       "0          0       0.0          1  ...                  1   \n",
       "1          1       0.0          1  ...                  0   \n",
       "2          1       0.0          1  ...                  0   \n",
       "3          1       0.0          1  ...                  0   \n",
       "4          1       0.0          1  ...                  0   \n",
       "\n",
       "   internet_type_Fiber Optic  internet_type_None  payment_Credit Card  \\\n",
       "0                          0                   0                    0   \n",
       "1                          1                   0                    1   \n",
       "2                          1                   0                    0   \n",
       "3                          1                   0                    0   \n",
       "4                          1                   0                    0   \n",
       "\n",
       "   payment_Mailed Check  offer_Offer A  offer_Offer B  offer_Offer C  \\\n",
       "0                     0              0              0              0   \n",
       "1                     0              0              0              0   \n",
       "2                     0              0              0              0   \n",
       "3                     0              0              0              1   \n",
       "4                     0              0              0              1   \n",
       "\n",
       "   offer_Offer D  offer_Offer E  \n",
       "0              0              0  \n",
       "1              0              1  \n",
       "2              1              0  \n",
       "3              0              0  \n",
       "4              0              0  \n",
       "\n",
       "[5 rows x 23 columns]"
      ]
     },
     "execution_count": 6,
     "metadata": {},
     "output_type": "execute_result"
    }
   ],
   "source": [
    "df.head()"
   ]
  },
  {
   "cell_type": "code",
   "execution_count": 5,
   "id": "b3ab8c8a",
   "metadata": {},
   "outputs": [
    {
     "data": {
      "text/plain": [
       "months                       float64\n",
       "multiple                       int64\n",
       "gb_mon                       float64\n",
       "security                       int64\n",
       "backup                         int64\n",
       "protection                     int64\n",
       "support                        int64\n",
       "unlimited                      int64\n",
       "contract                     float64\n",
       "paperless                      int64\n",
       "monthly                      float64\n",
       "satisfaction                 float64\n",
       "churn_value                    int64\n",
       "internet_type_DSL              int64\n",
       "internet_type_Fiber Optic      int64\n",
       "internet_type_None             int64\n",
       "payment_Credit Card            int64\n",
       "payment_Mailed Check           int64\n",
       "offer_Offer A                  int64\n",
       "offer_Offer B                  int64\n",
       "offer_Offer C                  int64\n",
       "offer_Offer D                  int64\n",
       "offer_Offer E                  int64\n",
       "dtype: object"
      ]
     },
     "execution_count": 5,
     "metadata": {},
     "output_type": "execute_result"
    }
   ],
   "source": [
    "df.dtypes"
   ]
  },
  {
   "cell_type": "code",
   "execution_count": 4,
   "id": "56d8763f",
   "metadata": {},
   "outputs": [
    {
     "data": {
      "text/html": [
       "<div>\n",
       "<style scoped>\n",
       "    .dataframe tbody tr th:only-of-type {\n",
       "        vertical-align: middle;\n",
       "    }\n",
       "\n",
       "    .dataframe tbody tr th {\n",
       "        vertical-align: top;\n",
       "    }\n",
       "\n",
       "    .dataframe thead th {\n",
       "        text-align: right;\n",
       "    }\n",
       "</style>\n",
       "<table border=\"1\" class=\"dataframe\">\n",
       "  <thead>\n",
       "    <tr style=\"text-align: right;\">\n",
       "      <th></th>\n",
       "      <th>count</th>\n",
       "      <th>mean</th>\n",
       "      <th>std</th>\n",
       "      <th>min</th>\n",
       "      <th>25%</th>\n",
       "      <th>50%</th>\n",
       "      <th>75%</th>\n",
       "      <th>max</th>\n",
       "    </tr>\n",
       "  </thead>\n",
       "  <tbody>\n",
       "    <tr>\n",
       "      <th>months</th>\n",
       "      <td>7043.0</td>\n",
       "      <td>0.43</td>\n",
       "      <td>0.40</td>\n",
       "      <td>0.0</td>\n",
       "      <td>0.00</td>\n",
       "      <td>0.25</td>\n",
       "      <td>0.75</td>\n",
       "      <td>1.0</td>\n",
       "    </tr>\n",
       "    <tr>\n",
       "      <th>multiple</th>\n",
       "      <td>7043.0</td>\n",
       "      <td>0.42</td>\n",
       "      <td>0.49</td>\n",
       "      <td>0.0</td>\n",
       "      <td>0.00</td>\n",
       "      <td>0.00</td>\n",
       "      <td>1.00</td>\n",
       "      <td>1.0</td>\n",
       "    </tr>\n",
       "    <tr>\n",
       "      <th>gb_mon</th>\n",
       "      <td>7043.0</td>\n",
       "      <td>0.24</td>\n",
       "      <td>0.24</td>\n",
       "      <td>0.0</td>\n",
       "      <td>0.04</td>\n",
       "      <td>0.20</td>\n",
       "      <td>0.32</td>\n",
       "      <td>1.0</td>\n",
       "    </tr>\n",
       "    <tr>\n",
       "      <th>security</th>\n",
       "      <td>7043.0</td>\n",
       "      <td>0.29</td>\n",
       "      <td>0.45</td>\n",
       "      <td>0.0</td>\n",
       "      <td>0.00</td>\n",
       "      <td>0.00</td>\n",
       "      <td>1.00</td>\n",
       "      <td>1.0</td>\n",
       "    </tr>\n",
       "    <tr>\n",
       "      <th>backup</th>\n",
       "      <td>7043.0</td>\n",
       "      <td>0.34</td>\n",
       "      <td>0.48</td>\n",
       "      <td>0.0</td>\n",
       "      <td>0.00</td>\n",
       "      <td>0.00</td>\n",
       "      <td>1.00</td>\n",
       "      <td>1.0</td>\n",
       "    </tr>\n",
       "    <tr>\n",
       "      <th>protection</th>\n",
       "      <td>7043.0</td>\n",
       "      <td>0.34</td>\n",
       "      <td>0.48</td>\n",
       "      <td>0.0</td>\n",
       "      <td>0.00</td>\n",
       "      <td>0.00</td>\n",
       "      <td>1.00</td>\n",
       "      <td>1.0</td>\n",
       "    </tr>\n",
       "    <tr>\n",
       "      <th>support</th>\n",
       "      <td>7043.0</td>\n",
       "      <td>0.29</td>\n",
       "      <td>0.45</td>\n",
       "      <td>0.0</td>\n",
       "      <td>0.00</td>\n",
       "      <td>0.00</td>\n",
       "      <td>1.00</td>\n",
       "      <td>1.0</td>\n",
       "    </tr>\n",
       "    <tr>\n",
       "      <th>unlimited</th>\n",
       "      <td>7043.0</td>\n",
       "      <td>0.67</td>\n",
       "      <td>0.47</td>\n",
       "      <td>0.0</td>\n",
       "      <td>0.00</td>\n",
       "      <td>1.00</td>\n",
       "      <td>1.00</td>\n",
       "      <td>1.0</td>\n",
       "    </tr>\n",
       "    <tr>\n",
       "      <th>contract</th>\n",
       "      <td>7043.0</td>\n",
       "      <td>0.38</td>\n",
       "      <td>0.42</td>\n",
       "      <td>0.0</td>\n",
       "      <td>0.00</td>\n",
       "      <td>0.00</td>\n",
       "      <td>1.00</td>\n",
       "      <td>1.0</td>\n",
       "    </tr>\n",
       "    <tr>\n",
       "      <th>paperless</th>\n",
       "      <td>7043.0</td>\n",
       "      <td>0.59</td>\n",
       "      <td>0.49</td>\n",
       "      <td>0.0</td>\n",
       "      <td>0.00</td>\n",
       "      <td>1.00</td>\n",
       "      <td>1.00</td>\n",
       "      <td>1.0</td>\n",
       "    </tr>\n",
       "    <tr>\n",
       "      <th>monthly</th>\n",
       "      <td>7043.0</td>\n",
       "      <td>0.46</td>\n",
       "      <td>0.30</td>\n",
       "      <td>0.0</td>\n",
       "      <td>0.17</td>\n",
       "      <td>0.52</td>\n",
       "      <td>0.71</td>\n",
       "      <td>1.0</td>\n",
       "    </tr>\n",
       "    <tr>\n",
       "      <th>satisfaction</th>\n",
       "      <td>7043.0</td>\n",
       "      <td>0.56</td>\n",
       "      <td>0.30</td>\n",
       "      <td>0.0</td>\n",
       "      <td>0.50</td>\n",
       "      <td>0.50</td>\n",
       "      <td>0.75</td>\n",
       "      <td>1.0</td>\n",
       "    </tr>\n",
       "    <tr>\n",
       "      <th>churn_value</th>\n",
       "      <td>7043.0</td>\n",
       "      <td>0.27</td>\n",
       "      <td>0.44</td>\n",
       "      <td>0.0</td>\n",
       "      <td>0.00</td>\n",
       "      <td>0.00</td>\n",
       "      <td>1.00</td>\n",
       "      <td>1.0</td>\n",
       "    </tr>\n",
       "    <tr>\n",
       "      <th>internet_type_DSL</th>\n",
       "      <td>7043.0</td>\n",
       "      <td>0.23</td>\n",
       "      <td>0.42</td>\n",
       "      <td>0.0</td>\n",
       "      <td>0.00</td>\n",
       "      <td>0.00</td>\n",
       "      <td>0.00</td>\n",
       "      <td>1.0</td>\n",
       "    </tr>\n",
       "    <tr>\n",
       "      <th>internet_type_Fiber Optic</th>\n",
       "      <td>7043.0</td>\n",
       "      <td>0.43</td>\n",
       "      <td>0.50</td>\n",
       "      <td>0.0</td>\n",
       "      <td>0.00</td>\n",
       "      <td>0.00</td>\n",
       "      <td>1.00</td>\n",
       "      <td>1.0</td>\n",
       "    </tr>\n",
       "    <tr>\n",
       "      <th>internet_type_None</th>\n",
       "      <td>7043.0</td>\n",
       "      <td>0.22</td>\n",
       "      <td>0.41</td>\n",
       "      <td>0.0</td>\n",
       "      <td>0.00</td>\n",
       "      <td>0.00</td>\n",
       "      <td>0.00</td>\n",
       "      <td>1.0</td>\n",
       "    </tr>\n",
       "    <tr>\n",
       "      <th>payment_Credit Card</th>\n",
       "      <td>7043.0</td>\n",
       "      <td>0.39</td>\n",
       "      <td>0.49</td>\n",
       "      <td>0.0</td>\n",
       "      <td>0.00</td>\n",
       "      <td>0.00</td>\n",
       "      <td>1.00</td>\n",
       "      <td>1.0</td>\n",
       "    </tr>\n",
       "    <tr>\n",
       "      <th>payment_Mailed Check</th>\n",
       "      <td>7043.0</td>\n",
       "      <td>0.05</td>\n",
       "      <td>0.23</td>\n",
       "      <td>0.0</td>\n",
       "      <td>0.00</td>\n",
       "      <td>0.00</td>\n",
       "      <td>0.00</td>\n",
       "      <td>1.0</td>\n",
       "    </tr>\n",
       "    <tr>\n",
       "      <th>offer_Offer A</th>\n",
       "      <td>7043.0</td>\n",
       "      <td>0.07</td>\n",
       "      <td>0.26</td>\n",
       "      <td>0.0</td>\n",
       "      <td>0.00</td>\n",
       "      <td>0.00</td>\n",
       "      <td>0.00</td>\n",
       "      <td>1.0</td>\n",
       "    </tr>\n",
       "    <tr>\n",
       "      <th>offer_Offer B</th>\n",
       "      <td>7043.0</td>\n",
       "      <td>0.12</td>\n",
       "      <td>0.32</td>\n",
       "      <td>0.0</td>\n",
       "      <td>0.00</td>\n",
       "      <td>0.00</td>\n",
       "      <td>0.00</td>\n",
       "      <td>1.0</td>\n",
       "    </tr>\n",
       "    <tr>\n",
       "      <th>offer_Offer C</th>\n",
       "      <td>7043.0</td>\n",
       "      <td>0.06</td>\n",
       "      <td>0.24</td>\n",
       "      <td>0.0</td>\n",
       "      <td>0.00</td>\n",
       "      <td>0.00</td>\n",
       "      <td>0.00</td>\n",
       "      <td>1.0</td>\n",
       "    </tr>\n",
       "    <tr>\n",
       "      <th>offer_Offer D</th>\n",
       "      <td>7043.0</td>\n",
       "      <td>0.09</td>\n",
       "      <td>0.28</td>\n",
       "      <td>0.0</td>\n",
       "      <td>0.00</td>\n",
       "      <td>0.00</td>\n",
       "      <td>0.00</td>\n",
       "      <td>1.0</td>\n",
       "    </tr>\n",
       "    <tr>\n",
       "      <th>offer_Offer E</th>\n",
       "      <td>7043.0</td>\n",
       "      <td>0.11</td>\n",
       "      <td>0.32</td>\n",
       "      <td>0.0</td>\n",
       "      <td>0.00</td>\n",
       "      <td>0.00</td>\n",
       "      <td>0.00</td>\n",
       "      <td>1.0</td>\n",
       "    </tr>\n",
       "  </tbody>\n",
       "</table>\n",
       "</div>"
      ],
      "text/plain": [
       "                            count  mean   std  min   25%   50%   75%  max\n",
       "months                     7043.0  0.43  0.40  0.0  0.00  0.25  0.75  1.0\n",
       "multiple                   7043.0  0.42  0.49  0.0  0.00  0.00  1.00  1.0\n",
       "gb_mon                     7043.0  0.24  0.24  0.0  0.04  0.20  0.32  1.0\n",
       "security                   7043.0  0.29  0.45  0.0  0.00  0.00  1.00  1.0\n",
       "backup                     7043.0  0.34  0.48  0.0  0.00  0.00  1.00  1.0\n",
       "protection                 7043.0  0.34  0.48  0.0  0.00  0.00  1.00  1.0\n",
       "support                    7043.0  0.29  0.45  0.0  0.00  0.00  1.00  1.0\n",
       "unlimited                  7043.0  0.67  0.47  0.0  0.00  1.00  1.00  1.0\n",
       "contract                   7043.0  0.38  0.42  0.0  0.00  0.00  1.00  1.0\n",
       "paperless                  7043.0  0.59  0.49  0.0  0.00  1.00  1.00  1.0\n",
       "monthly                    7043.0  0.46  0.30  0.0  0.17  0.52  0.71  1.0\n",
       "satisfaction               7043.0  0.56  0.30  0.0  0.50  0.50  0.75  1.0\n",
       "churn_value                7043.0  0.27  0.44  0.0  0.00  0.00  1.00  1.0\n",
       "internet_type_DSL          7043.0  0.23  0.42  0.0  0.00  0.00  0.00  1.0\n",
       "internet_type_Fiber Optic  7043.0  0.43  0.50  0.0  0.00  0.00  1.00  1.0\n",
       "internet_type_None         7043.0  0.22  0.41  0.0  0.00  0.00  0.00  1.0\n",
       "payment_Credit Card        7043.0  0.39  0.49  0.0  0.00  0.00  1.00  1.0\n",
       "payment_Mailed Check       7043.0  0.05  0.23  0.0  0.00  0.00  0.00  1.0\n",
       "offer_Offer A              7043.0  0.07  0.26  0.0  0.00  0.00  0.00  1.0\n",
       "offer_Offer B              7043.0  0.12  0.32  0.0  0.00  0.00  0.00  1.0\n",
       "offer_Offer C              7043.0  0.06  0.24  0.0  0.00  0.00  0.00  1.0\n",
       "offer_Offer D              7043.0  0.09  0.28  0.0  0.00  0.00  0.00  1.0\n",
       "offer_Offer E              7043.0  0.11  0.32  0.0  0.00  0.00  0.00  1.0"
      ]
     },
     "execution_count": 4,
     "metadata": {},
     "output_type": "execute_result"
    }
   ],
   "source": [
    "# This code cell was adapted from the KNN Demo.\n",
    "round(df.describe().T, 2)"
   ]
  },
  {
   "cell_type": "code",
   "execution_count": 3,
   "id": "fbb977ee",
   "metadata": {},
   "outputs": [
    {
     "data": {
      "text/plain": [
       "(7043, 23)"
      ]
     },
     "execution_count": 3,
     "metadata": {},
     "output_type": "execute_result"
    }
   ],
   "source": [
    "df.shape"
   ]
  },
  {
   "cell_type": "code",
   "execution_count": 46,
   "id": "a4a0f508",
   "metadata": {},
   "outputs": [],
   "source": [
    "# Save a copy of the processed data set\n",
    "# This code cell was adapted from the KNN Demo as well.\n",
    "outputfile = 'churndata_processed_project.csv'\n",
    "df.to_csv(outputfile, index=False)"
   ]
  },
  {
   "cell_type": "markdown",
   "id": "42d7da5c",
   "metadata": {},
   "source": [
    "#### Load the data set back "
   ]
  },
  {
   "cell_type": "code",
   "execution_count": 3,
   "id": "7911ba75",
   "metadata": {},
   "outputs": [],
   "source": [
    "df = pd.read_csv('churndata_processed_project.csv')"
   ]
  },
  {
   "cell_type": "markdown",
   "id": "61fbcfc1",
   "metadata": {},
   "source": [
    "## 4. Train/test sets"
   ]
  },
  {
   "cell_type": "markdown",
   "id": "f6f8b15a",
   "metadata": {},
   "source": [
    "Let's now obtain a train and test set. We'll follow the steps from the KNN Demo again."
   ]
  },
  {
   "cell_type": "code",
   "execution_count": 5,
   "id": "bfd4202e",
   "metadata": {},
   "outputs": [],
   "source": [
    "# Let's start by importing some modules we'll require (also used in the KNN Demom)\n",
    "from sklearn.model_selection import train_test_split\n",
    "from sklearn.neighbors import KNeighborsClassifier\n",
    "from sklearn.metrics import confusion_matrix, accuracy_score, classification_report, f1_score, precision_score, recall_score"
   ]
  },
  {
   "cell_type": "code",
   "execution_count": 6,
   "id": "91b357fa",
   "metadata": {},
   "outputs": [],
   "source": [
    "# This code cell was adapted from the KNN Demo.\n",
    "X, y = df.drop(columns='churn_value'), df['churn_value']\n",
    "X_train, X_test, y_train, y_test = train_test_split(X, y, test_size=0.4, random_state=0, stratify=y)"
   ]
  },
  {
   "cell_type": "code",
   "execution_count": 10,
   "id": "d6b7404a",
   "metadata": {},
   "outputs": [
    {
     "data": {
      "text/plain": [
       "0    0.73463\n",
       "1    0.26537\n",
       "Name: churn_value, dtype: float64"
      ]
     },
     "execution_count": 10,
     "metadata": {},
     "output_type": "execute_result"
    }
   ],
   "source": [
    "# Check proportions\n",
    "df['churn_value'].value_counts(normalize=True)"
   ]
  },
  {
   "cell_type": "code",
   "execution_count": 11,
   "id": "e27adb46",
   "metadata": {},
   "outputs": [
    {
     "data": {
      "text/plain": [
       "0    0.734675\n",
       "1    0.265325\n",
       "Name: churn_value, dtype: float64"
      ]
     },
     "execution_count": 11,
     "metadata": {},
     "output_type": "execute_result"
    }
   ],
   "source": [
    "y_train.value_counts(normalize=True)"
   ]
  },
  {
   "cell_type": "code",
   "execution_count": 12,
   "id": "cbf69458",
   "metadata": {},
   "outputs": [
    {
     "data": {
      "text/plain": [
       "0    0.734564\n",
       "1    0.265436\n",
       "Name: churn_value, dtype: float64"
      ]
     },
     "execution_count": 12,
     "metadata": {},
     "output_type": "execute_result"
    }
   ],
   "source": [
    "y_test.value_counts(normalize=True)"
   ]
  },
  {
   "cell_type": "code",
   "execution_count": 7,
   "id": "0259b3d2",
   "metadata": {},
   "outputs": [
    {
     "name": "stdout",
     "output_type": "stream",
     "text": [
      "(4225, 22)\n",
      "(2818, 22)\n"
     ]
    }
   ],
   "source": [
    "# Check shapes\n",
    "print(X_train.shape)\n",
    "print(X_test.shape)"
   ]
  },
  {
   "cell_type": "markdown",
   "id": "b3ac9c61",
   "metadata": {},
   "source": [
    "## 5. KNN model "
   ]
  },
  {
   "cell_type": "markdown",
   "id": "a13576d6",
   "metadata": {},
   "source": [
    "Let's now look for a KNN model. We'll follow the same approach from the demo and start by looking for a good value of K. For this, we'll also use weights='distance' for the KNN Classifier, just like in the demo."
   ]
  },
  {
   "cell_type": "markdown",
   "id": "6b2d80d0",
   "metadata": {},
   "source": [
    "#### Search for a good value of K "
   ]
  },
  {
   "cell_type": "code",
   "execution_count": 86,
   "id": "259ce164",
   "metadata": {},
   "outputs": [],
   "source": [
    "# This code cell was adapted from the KNN Demo. We've added the precision and recall values here.\n",
    "max_k = 40\n",
    "f1_scores = list()\n",
    "error_rates = list() # 1-accuracy\n",
    "precision_values = list()\n",
    "recall_values = list() \n",
    "\n",
    "for k in range(1, (max_k)+1):\n",
    "    \n",
    "    knn = KNeighborsClassifier(n_neighbors=k, weights='distance')\n",
    "    knn = knn.fit(X_train, y_train)\n",
    "    \n",
    "    y_pred = knn.predict(X_test) \n",
    "    \n",
    "    # In the future, it would be better to use a validation set to compare the models and later evaluate on a separate test set.\n",
    "    f1_scores.append((k, round(f1_score(y_test, y_pred), 3)))\n",
    "    \n",
    "    error = 1-round(accuracy_score(y_test, y_pred), 3)\n",
    "    error_rates.append((k, error))\n",
    "    \n",
    "    precision_values.append((k, round(precision_score(y_test, y_pred), 3)))\n",
    "    \n",
    "    recall_values.append((k, round(recall_score(y_test, y_pred), 3)))\n",
    "    \n",
    "    \n",
    "f1_results = pd.DataFrame(f1_scores, columns=['K', 'F1 Score'])\n",
    "error_results = pd.DataFrame(error_rates, columns=['K', 'Error Rate'])\n",
    "precision_results = pd.DataFrame(precision_values, columns=['K','Precision'])\n",
    "recall_results = pd.DataFrame(recall_values, columns=['K','Recall'])"
   ]
  },
  {
   "cell_type": "markdown",
   "id": "d7786fa9",
   "metadata": {},
   "source": [
    "#### Plot results "
   ]
  },
  {
   "cell_type": "code",
   "execution_count": 87,
   "id": "0d9f57ba",
   "metadata": {},
   "outputs": [
    {
     "data": {
      "text/plain": [
       "<Figure size 1800x1200 with 0 Axes>"
      ]
     },
     "metadata": {},
     "output_type": "display_data"
    },
    {
     "data": {
      "image/png": "[encoded data removed]",
      "text/plain": [
       "<Figure size 864x864 with 1 Axes>"
      ]
     },
     "metadata": {},
     "output_type": "display_data"
    }
   ],
   "source": [
    "# This code cell was adapted from the KNN Demo.\n",
    "# F1 results\n",
    "sns.set_context('talk')\n",
    "sns.set_style('ticks')\n",
    "\n",
    "plt.figure(dpi=300)\n",
    "ax = f1_results.set_index('K').plot(color=colors[0], figsize=(12, 12), linewidth=6)\n",
    "ax.set(xlabel='K', ylabel='F1 Score')\n",
    "ax.set_xticks(range(1, max_k+2, 2));\n",
    "plt.title('KNN F1 Score')\n",
    "plt.savefig('knn_f1.png')"
   ]
  },
  {
   "cell_type": "code",
   "execution_count": 88,
   "id": "25773468",
   "metadata": {},
   "outputs": [
    {
     "data": {
      "text/plain": [
       "<Figure size 1800x1200 with 0 Axes>"
      ]
     },
     "metadata": {},
     "output_type": "display_data"
    },
    {
     "data": {
      "image/png": "[encoded data removed]",
      "text/plain": [
       "<Figure size 864x864 with 1 Axes>"
      ]
     },
     "metadata": {},
     "output_type": "display_data"
    }
   ],
   "source": [
    "# This code cell was adapted from the KNN Demo.\n",
    "# Error results\n",
    "sns.set_context('talk')\n",
    "sns.set_style('ticks')\n",
    "\n",
    "plt.figure(dpi=300)\n",
    "ax = error_results.set_index('K').plot(color=colors[0], figsize=(12, 12), linewidth=6)\n",
    "ax.set(xlabel='K', ylabel='Error Rate')\n",
    "ax.set_xticks(range(1, max_k+2, 2))\n",
    "plt.title('KNN Elbow Curve')\n",
    "plt.savefig('knn_elbow.png')"
   ]
  },
  {
   "cell_type": "code",
   "execution_count": 89,
   "id": "928480f3",
   "metadata": {},
   "outputs": [
    {
     "data": {
      "text/plain": [
       "<Figure size 1800x1200 with 0 Axes>"
      ]
     },
     "metadata": {},
     "output_type": "display_data"
    },
    {
     "data": {
      "image/png": "[encoded data removed]",
      "text/plain": [
       "<Figure size 864x864 with 1 Axes>"
      ]
     },
     "metadata": {},
     "output_type": "display_data"
    }
   ],
   "source": [
    "# This code cell was adapted from the KNN Demo.\n",
    "# Precision results\n",
    "sns.set_context('talk')\n",
    "sns.set_style('ticks')\n",
    "\n",
    "plt.figure(dpi=300)\n",
    "ax = precision_results.set_index('K').plot(color=colors[0], figsize=(12, 12), linewidth=6)\n",
    "ax.set(xlabel='K', ylabel='Precision')\n",
    "ax.set_xticks(range(1, max_k+2, 2))\n",
    "plt.title('K-Precision Curve')\n",
    "plt.savefig('knn_precision.png')"
   ]
  },
  {
   "cell_type": "code",
   "execution_count": 90,
   "id": "0fac428c",
   "metadata": {},
   "outputs": [
    {
     "data": {
      "text/plain": [
       "<Figure size 1800x1200 with 0 Axes>"
      ]
     },
     "metadata": {},
     "output_type": "display_data"
    },
    {
     "data": {
      "image/png": "[encoded data removed]",
      "text/plain": [
       "<Figure size 864x864 with 1 Axes>"
      ]
     },
     "metadata": {},
     "output_type": "display_data"
    }
   ],
   "source": [
    "# This code cell was adapted from the KNN Demo.\n",
    "# Recall results\n",
    "sns.set_context('talk')\n",
    "sns.set_style('ticks')\n",
    "\n",
    "plt.figure(dpi=300)\n",
    "ax = recall_results.set_index('K').plot(color=colors[0], figsize=(12, 12), linewidth=6)\n",
    "ax.set(xlabel='K', ylabel='Recall')\n",
    "ax.set_xticks(range(1, max_k+2, 2))\n",
    "plt.title('K-Recall Curve')\n",
    "plt.savefig('knn_recall.png')"
   ]
  },
  {
   "cell_type": "markdown",
   "id": "3bed96c2",
   "metadata": {},
   "source": [
    "#### Train a KNN model"
   ]
  },
  {
   "cell_type": "markdown",
   "id": "4a394f23",
   "metadata": {},
   "source": [
    "Based on the plots, we'll use a value of K = 26."
   ]
  },
  {
   "cell_type": "code",
   "execution_count": 91,
   "id": "ba98f154",
   "metadata": {},
   "outputs": [],
   "source": [
    "# Let's train our classifier.\n",
    "knn_26 = KNeighborsClassifier(n_neighbors=26, weights='distance')\n",
    "knn_26 = knn.fit(X_train, y_train)\n",
    "y_pred = knn_26.predict(X_test) "
   ]
  },
  {
   "cell_type": "markdown",
   "id": "503b7c7d",
   "metadata": {},
   "source": [
    "#### Classification report"
   ]
  },
  {
   "cell_type": "code",
   "execution_count": 92,
   "id": "f0fd1236",
   "metadata": {},
   "outputs": [
    {
     "name": "stdout",
     "output_type": "stream",
     "text": [
      "              precision    recall  f1-score   support\n",
      "\n",
      "           0       0.91      0.93      0.92      2070\n",
      "           1       0.80      0.74      0.77       748\n",
      "\n",
      "    accuracy                           0.88      2818\n",
      "   macro avg       0.85      0.84      0.85      2818\n",
      "weighted avg       0.88      0.88      0.88      2818\n",
      "\n"
     ]
    }
   ],
   "source": [
    "# Classification report\n",
    "print(classification_report(y_test, y_pred))"
   ]
  },
  {
   "cell_type": "code",
   "execution_count": 93,
   "id": "894e9e50",
   "metadata": {},
   "outputs": [
    {
     "name": "stdout",
     "output_type": "stream",
     "text": [
      "0.88\n",
      "0.8\n",
      "0.74\n"
     ]
    }
   ],
   "source": [
    "# Let's also get the metrics by separate just for verification purposes\n",
    "print(round(accuracy_score(y_test,y_pred),2))\n",
    "print(round(precision_score(y_test,y_pred),2))\n",
    "print(round(recall_score(y_test,y_pred),2))"
   ]
  },
  {
   "cell_type": "markdown",
   "id": "8eb9cac1",
   "metadata": {},
   "source": [
    "#### Save the model "
   ]
  },
  {
   "cell_type": "code",
   "execution_count": null,
   "id": "e32cd2e7",
   "metadata": {},
   "outputs": [],
   "source": [
    "# Let's save the model using pickle\n",
    "import pickle\n",
    "name = \"../models/knn_26.sav\"\n",
    "pickle.dump(knn_26, open(name, 'wb'))"
   ]
  },
  {
   "cell_type": "markdown",
   "id": "3735dcd0",
   "metadata": {},
   "source": [
    "#### Load the model back "
   ]
  },
  {
   "cell_type": "code",
   "execution_count": 95,
   "id": "f999469d",
   "metadata": {},
   "outputs": [],
   "source": [
    "knn_26 = pickle.load(open(name, 'rb'))"
   ]
  },
  {
   "cell_type": "markdown",
   "id": "0eb509bc",
   "metadata": {},
   "source": [
    "#### Sanity checks "
   ]
  },
  {
   "cell_type": "code",
   "execution_count": 96,
   "id": "6a68b61f",
   "metadata": {},
   "outputs": [
    {
     "name": "stdout",
     "output_type": "stream",
     "text": [
      "0.88\n",
      "0.8\n",
      "0.74\n"
     ]
    }
   ],
   "source": [
    "# Let's also get the metrics by separate just for verification purposes\n",
    "y_pred = knn_26.predict(X_test)\n",
    "print(round(accuracy_score(y_test,y_pred),2))\n",
    "print(round(precision_score(y_test,y_pred),2))\n",
    "print(round(recall_score(y_test,y_pred),2))"
   ]
  },
  {
   "cell_type": "code",
   "execution_count": 97,
   "id": "1bee6d06",
   "metadata": {},
   "outputs": [
    {
     "name": "stdout",
     "output_type": "stream",
     "text": [
      "              precision    recall  f1-score   support\n",
      "\n",
      "           0       0.91      0.93      0.92      2070\n",
      "           1       0.80      0.74      0.77       748\n",
      "\n",
      "    accuracy                           0.88      2818\n",
      "   macro avg       0.85      0.84      0.85      2818\n",
      "weighted avg       0.88      0.88      0.88      2818\n",
      "\n"
     ]
    }
   ],
   "source": [
    "print(classification_report(y_test, y_pred))"
   ]
  },
  {
   "cell_type": "markdown",
   "id": "bce28c54",
   "metadata": {},
   "source": [
    "#### Confusion matrix "
   ]
  },
  {
   "cell_type": "markdown",
   "id": "02b07213",
   "metadata": {},
   "source": [
    "Let's plot the confusion matrix, just like in the KNN Demo. "
   ]
  },
  {
   "cell_type": "code",
   "execution_count": 98,
   "id": "22fb0d3f",
   "metadata": {},
   "outputs": [
    {
     "data": {
      "text/plain": [
       "Text(0.5, 76.5, 'Prediction')"
      ]
     },
     "execution_count": 98,
     "metadata": {},
     "output_type": "execute_result"
    },
    {
     "data": {
      "image/png": "[encoded data removed]",
      "text/plain": [
       "<Figure size 864x864 with 2 Axes>"
      ]
     },
     "metadata": {},
     "output_type": "display_data"
    }
   ],
   "source": [
    "# This code cell was adapted from the KNN Demo.\n",
    "sns.set_palette(sns.color_palette(colors))\n",
    "_, ax = plt.subplots(figsize=(12,12))\n",
    "ax = sns.heatmap(confusion_matrix(y_test, y_pred), annot=True, fmt='d', cmap=colors, annot_kws={\"size\": 40, \"weight\": \"bold\"})  \n",
    "labels = ['Not Churn', 'Churn']\n",
    "ax.set_xticklabels(labels, fontsize=25);\n",
    "ax.set_yticklabels(labels, fontsize=25);\n",
    "ax.set_ylabel('Ground Truth', fontsize=30);\n",
    "ax.set_xlabel('Prediction', fontsize=30)"
   ]
  },
  {
   "cell_type": "markdown",
   "id": "c526b51e",
   "metadata": {},
   "source": [
    "#### Precision/recall curve "
   ]
  },
  {
   "cell_type": "code",
   "execution_count": 103,
   "id": "610e57d5",
   "metadata": {},
   "outputs": [
    {
     "data": {
      "text/plain": [
       "array([0.      , 1.      , 0.      , ..., 0.962236, 0.      , 1.      ])"
      ]
     },
     "execution_count": 103,
     "metadata": {},
     "output_type": "execute_result"
    }
   ],
   "source": [
    "y_pred_proba = knn_23.predict_proba(X_test)\n",
    "y_pred_proba[:,1]"
   ]
  },
  {
   "cell_type": "code",
   "execution_count": 107,
   "id": "42b3539c",
   "metadata": {},
   "outputs": [
    {
     "data": {
      "text/plain": [
       "[Text(0.5, 0, 'Recall'),\n",
       " Text(0, 0.5, 'Precision'),\n",
       " (-0.01, 1.01),\n",
       " (-0.01, 1.01),\n",
       " Text(0.5, 1.0, 'Precision-Recall curve')]"
      ]
     },
     "execution_count": 107,
     "metadata": {},
     "output_type": "execute_result"
    },
    {
     "data": {
      "image/png": "[encoded data removed]",
      "text/plain": [
       "<Figure size 1152x576 with 1 Axes>"
      ]
     },
     "metadata": {},
     "output_type": "display_data"
    }
   ],
   "source": [
    "# The following code was adapted from the Bagging Demo ((c) IBM 2020)\n",
    "from sklearn.metrics import precision_recall_curve\n",
    "sns.set_context('talk')\n",
    "_, ax = plt.subplots(figsize=(16,8))\n",
    "\n",
    "precision, recall, _ = precision_recall_curve(y_test, y_pred_proba[:,1])\n",
    "ax.plot(recall, precision, color=colors[1], linewidth=5)\n",
    "ax.set(xlabel='Recall', ylabel='Precision',\n",
    "       xlim=[-.01, 1.01], ylim=[-.01, 1.01],\n",
    "       title='Precision-Recall curve')"
   ]
  },
  {
   "cell_type": "markdown",
   "id": "a08d2c82",
   "metadata": {},
   "source": [
    "## 6. Random Forest model  "
   ]
  },
  {
   "cell_type": "markdown",
   "id": "69ade5dc",
   "metadata": {},
   "source": [
    "Let's now fit a Random Forest classifier on the data. We'll follow the steps from the Bagging Demo ((c) 2020 IBM)."
   ]
  },
  {
   "cell_type": "code",
   "execution_count": 7,
   "id": "6f37e093",
   "metadata": {},
   "outputs": [],
   "source": [
    "# This code cell was adapted from the Bagging Demo.\n",
    "import warnings\n",
    "warnings.filterwarnings(\"ignore\", category=UserWarning)\n",
    "warnings.filterwarnings(\"ignore\", category=RuntimeWarning)"
   ]
  },
  {
   "cell_type": "markdown",
   "id": "e4a5da74",
   "metadata": {},
   "source": [
    "#### OOB (Out-of-Bag) Error "
   ]
  },
  {
   "cell_type": "code",
   "execution_count": 15,
   "id": "7863ba95",
   "metadata": {},
   "outputs": [
    {
     "data": {
      "text/html": [
       "<div>\n",
       "<style scoped>\n",
       "    .dataframe tbody tr th:only-of-type {\n",
       "        vertical-align: middle;\n",
       "    }\n",
       "\n",
       "    .dataframe tbody tr th {\n",
       "        vertical-align: top;\n",
       "    }\n",
       "\n",
       "    .dataframe thead th {\n",
       "        text-align: right;\n",
       "    }\n",
       "</style>\n",
       "<table border=\"1\" class=\"dataframe\">\n",
       "  <thead>\n",
       "    <tr style=\"text-align: right;\">\n",
       "      <th></th>\n",
       "      <th>oob</th>\n",
       "    </tr>\n",
       "    <tr>\n",
       "      <th>n_trees</th>\n",
       "      <th></th>\n",
       "    </tr>\n",
       "  </thead>\n",
       "  <tbody>\n",
       "    <tr>\n",
       "      <th>15.0</th>\n",
       "      <td>0.060118</td>\n",
       "    </tr>\n",
       "    <tr>\n",
       "      <th>20.0</th>\n",
       "      <td>0.056331</td>\n",
       "    </tr>\n",
       "    <tr>\n",
       "      <th>30.0</th>\n",
       "      <td>0.054675</td>\n",
       "    </tr>\n",
       "    <tr>\n",
       "      <th>40.0</th>\n",
       "      <td>0.051834</td>\n",
       "    </tr>\n",
       "    <tr>\n",
       "      <th>50.0</th>\n",
       "      <td>0.052308</td>\n",
       "    </tr>\n",
       "    <tr>\n",
       "      <th>100.0</th>\n",
       "      <td>0.051124</td>\n",
       "    </tr>\n",
       "    <tr>\n",
       "      <th>150.0</th>\n",
       "      <td>0.051598</td>\n",
       "    </tr>\n",
       "    <tr>\n",
       "      <th>200.0</th>\n",
       "      <td>0.050888</td>\n",
       "    </tr>\n",
       "    <tr>\n",
       "      <th>250.0</th>\n",
       "      <td>0.050888</td>\n",
       "    </tr>\n",
       "    <tr>\n",
       "      <th>300.0</th>\n",
       "      <td>0.050178</td>\n",
       "    </tr>\n",
       "    <tr>\n",
       "      <th>350.0</th>\n",
       "      <td>0.051361</td>\n",
       "    </tr>\n",
       "    <tr>\n",
       "      <th>400.0</th>\n",
       "      <td>0.050888</td>\n",
       "    </tr>\n",
       "    <tr>\n",
       "      <th>450.0</th>\n",
       "      <td>0.051361</td>\n",
       "    </tr>\n",
       "    <tr>\n",
       "      <th>500.0</th>\n",
       "      <td>0.049941</td>\n",
       "    </tr>\n",
       "    <tr>\n",
       "      <th>550.0</th>\n",
       "      <td>0.050414</td>\n",
       "    </tr>\n",
       "    <tr>\n",
       "      <th>600.0</th>\n",
       "      <td>0.050178</td>\n",
       "    </tr>\n",
       "    <tr>\n",
       "      <th>650.0</th>\n",
       "      <td>0.050651</td>\n",
       "    </tr>\n",
       "    <tr>\n",
       "      <th>700.0</th>\n",
       "      <td>0.049941</td>\n",
       "    </tr>\n",
       "    <tr>\n",
       "      <th>750.0</th>\n",
       "      <td>0.050651</td>\n",
       "    </tr>\n",
       "    <tr>\n",
       "      <th>800.0</th>\n",
       "      <td>0.050651</td>\n",
       "    </tr>\n",
       "  </tbody>\n",
       "</table>\n",
       "</div>"
      ],
      "text/plain": [
       "              oob\n",
       "n_trees          \n",
       "15.0     0.060118\n",
       "20.0     0.056331\n",
       "30.0     0.054675\n",
       "40.0     0.051834\n",
       "50.0     0.052308\n",
       "100.0    0.051124\n",
       "150.0    0.051598\n",
       "200.0    0.050888\n",
       "250.0    0.050888\n",
       "300.0    0.050178\n",
       "350.0    0.051361\n",
       "400.0    0.050888\n",
       "450.0    0.051361\n",
       "500.0    0.049941\n",
       "550.0    0.050414\n",
       "600.0    0.050178\n",
       "650.0    0.050651\n",
       "700.0    0.049941\n",
       "750.0    0.050651\n",
       "800.0    0.050651"
      ]
     },
     "execution_count": 15,
     "metadata": {},
     "output_type": "execute_result"
    }
   ],
   "source": [
    "# This code cell was adapted from the Bagging Demo as well.\n",
    "from sklearn.ensemble import RandomForestClassifier\n",
    "\n",
    "# Initialize the random forest estimator\n",
    "# Number of trees is not yet declared here.\n",
    "# bootstrap is True by default.\n",
    "RF = RandomForestClassifier(oob_score=True, random_state=42, warm_start=True,n_jobs=-1)\n",
    "\n",
    "oob_list = list()\n",
    "\n",
    "# Iterate through all of the possibilities for \n",
    "# number of trees\n",
    "for n_trees in [15, 20, 30, 40, 50, 100, 150, 200, 250, 300, 350, 400, 450, 500, 550, 600, 650, 700, 750, 800]:\n",
    "    \n",
    "    # Use this to set the number of trees\n",
    "    RF.set_params(n_estimators=n_trees)\n",
    "\n",
    "    # Fit the model\n",
    "    RF.fit(X_train, y_train)\n",
    "\n",
    "    # Get the oob error\n",
    "    oob_error = 1 - RF.oob_score_\n",
    "    \n",
    "    # Store it\n",
    "    oob_list.append(pd.Series({'n_trees': n_trees, 'oob': oob_error}))\n",
    "\n",
    "rf_oob_df = pd.concat(oob_list, axis=1).T.set_index('n_trees')\n",
    "\n",
    "rf_oob_df"
   ]
  },
  {
   "cell_type": "markdown",
   "id": "59f4768a",
   "metadata": {},
   "source": [
    "Based on the results above, it could be a good idea to choose between 200-300 trees. Let's choose 250."
   ]
  },
  {
   "cell_type": "code",
   "execution_count": 16,
   "id": "e9301431",
   "metadata": {},
   "outputs": [],
   "source": [
    "# This was adapted from the Bagging Demo\n",
    "RF_model = RF.set_params(n_estimators=250)\n",
    "y_pred = RF_model.predict(X_test)"
   ]
  },
  {
   "cell_type": "markdown",
   "id": "3bacdbac",
   "metadata": {},
   "source": [
    "#### Classification report "
   ]
  },
  {
   "cell_type": "code",
   "execution_count": 17,
   "id": "8dd2ead7",
   "metadata": {},
   "outputs": [
    {
     "name": "stdout",
     "output_type": "stream",
     "text": [
      "              precision    recall  f1-score   support\n",
      "\n",
      "           0       0.96      0.98      0.97      2070\n",
      "           1       0.94      0.89      0.92       748\n",
      "\n",
      "    accuracy                           0.96      2818\n",
      "   macro avg       0.95      0.94      0.94      2818\n",
      "weighted avg       0.96      0.96      0.96      2818\n",
      "\n"
     ]
    }
   ],
   "source": [
    "# Classification report\n",
    "print(classification_report(y_test, y_pred))"
   ]
  },
  {
   "cell_type": "code",
   "execution_count": 18,
   "id": "6fd05e52",
   "metadata": {},
   "outputs": [
    {
     "name": "stdout",
     "output_type": "stream",
     "text": [
      "0.96\n",
      "0.94\n",
      "0.89\n"
     ]
    }
   ],
   "source": [
    "# Let's also get the metrics by separate just for verification purposes\n",
    "print(round(accuracy_score(y_test,y_pred),2))\n",
    "print(round(precision_score(y_test,y_pred),2))\n",
    "print(round(recall_score(y_test,y_pred),2))"
   ]
  },
  {
   "cell_type": "markdown",
   "id": "3d950359",
   "metadata": {},
   "source": [
    "#### Save the model "
   ]
  },
  {
   "cell_type": "code",
   "execution_count": 19,
   "id": "e2b21e14",
   "metadata": {},
   "outputs": [],
   "source": [
    "# Let's save the model using pickle\n",
    "import pickle\n",
    "name = \"../models/RF_model_250.sav\"\n",
    "pickle.dump(RF_model, open(name, 'wb'))"
   ]
  },
  {
   "cell_type": "markdown",
   "id": "1e8ba876",
   "metadata": {},
   "source": [
    "#### Load the model "
   ]
  },
  {
   "cell_type": "code",
   "execution_count": 20,
   "id": "62e2518a",
   "metadata": {},
   "outputs": [],
   "source": [
    "RF_model = pickle.load(open(name, 'rb'))"
   ]
  },
  {
   "cell_type": "markdown",
   "id": "bc389973",
   "metadata": {},
   "source": [
    "#### Sanity checks "
   ]
  },
  {
   "cell_type": "code",
   "execution_count": 21,
   "id": "a2d1d0bf",
   "metadata": {},
   "outputs": [
    {
     "name": "stdout",
     "output_type": "stream",
     "text": [
      "0.96\n",
      "0.94\n",
      "0.89\n"
     ]
    }
   ],
   "source": [
    "# Let's also get the metrics by separate just for verification purposes\n",
    "y_pred = RF_model.predict(X_test)\n",
    "print(round(accuracy_score(y_test,y_pred),2))\n",
    "print(round(precision_score(y_test,y_pred),2))\n",
    "print(round(recall_score(y_test,y_pred),2))"
   ]
  },
  {
   "cell_type": "code",
   "execution_count": 22,
   "id": "c4dacd38",
   "metadata": {},
   "outputs": [
    {
     "name": "stdout",
     "output_type": "stream",
     "text": [
      "              precision    recall  f1-score   support\n",
      "\n",
      "           0       0.96      0.98      0.97      2070\n",
      "           1       0.94      0.89      0.92       748\n",
      "\n",
      "    accuracy                           0.96      2818\n",
      "   macro avg       0.95      0.94      0.94      2818\n",
      "weighted avg       0.96      0.96      0.96      2818\n",
      "\n"
     ]
    }
   ],
   "source": [
    "# Classification report\n",
    "print(classification_report(y_test, y_pred))"
   ]
  },
  {
   "cell_type": "markdown",
   "id": "3f1fc8a2",
   "metadata": {},
   "source": [
    "#### Confusion matrix "
   ]
  },
  {
   "cell_type": "code",
   "execution_count": 30,
   "id": "a9c71f9c",
   "metadata": {},
   "outputs": [],
   "source": [
    "# This code cell was adapted from the KNN Demo (it was put into a function)\n",
    "def plot_confusion_matrix():\n",
    "    sns.set_palette(sns.color_palette(colors))\n",
    "    _, ax = plt.subplots(figsize=(12,12))\n",
    "    ax = sns.heatmap(confusion_matrix(y_test, y_pred), annot=True, fmt='d', cmap=colors, annot_kws={\"size\": 40, \"weight\": \"bold\"})  \n",
    "    labels = ['Not Churn', 'Churn']\n",
    "    ax.set_xticklabels(labels, fontsize=25);\n",
    "    ax.set_yticklabels(labels, fontsize=25);\n",
    "    ax.set_ylabel('Ground Truth', fontsize=30);\n",
    "    ax.set_xlabel('Prediction', fontsize=30)"
   ]
  },
  {
   "cell_type": "code",
   "execution_count": 31,
   "id": "3a76b075",
   "metadata": {},
   "outputs": [
    {
     "data": {
      "image/png": "[encoded data removed]",
      "text/plain": [
       "<Figure size 864x864 with 2 Axes>"
      ]
     },
     "metadata": {
      "needs_background": "light"
     },
     "output_type": "display_data"
    }
   ],
   "source": [
    "plot_confusion_matrix()"
   ]
  },
  {
   "cell_type": "markdown",
   "id": "2a3fb9fb",
   "metadata": {},
   "source": [
    "#### Precision/recall curve "
   ]
  },
  {
   "cell_type": "code",
   "execution_count": 24,
   "id": "e24f5923",
   "metadata": {},
   "outputs": [
    {
     "data": {
      "text/plain": [
       "array([0.0075 , 0.97625, 0.385  , ..., 0.99625, 0.015  , 0.9475 ])"
      ]
     },
     "execution_count": 24,
     "metadata": {},
     "output_type": "execute_result"
    }
   ],
   "source": [
    "y_pred_proba = RF_model.predict_proba(X_test)\n",
    "y_pred_proba[:,1]"
   ]
  },
  {
   "cell_type": "code",
   "execution_count": 32,
   "id": "17e0f9d5",
   "metadata": {},
   "outputs": [
    {
     "data": {
      "image/png": "[encoded data removed]",
      "text/plain": [
       "<Figure size 1152x576 with 1 Axes>"
      ]
     },
     "metadata": {
      "needs_background": "light"
     },
     "output_type": "display_data"
    }
   ],
   "source": [
    "# The following code was adapted from the Bagging Demo ((c) IBM 2020) -> can be put in a function\n",
    "from sklearn.metrics import precision_recall_curve\n",
    "\n",
    "def plot_precision_recall_curve():\n",
    "    sns.set_context('talk')\n",
    "    _, ax = plt.subplots(figsize=(16,8))\n",
    "\n",
    "    precision, recall, _ = precision_recall_curve(y_test, y_pred_proba[:,1])\n",
    "    ax.plot(recall, precision, color=colors[1], linewidth=5)\n",
    "    ax.set(xlabel='Recall', ylabel='Precision',\n",
    "           xlim=[-.01, 1.01], ylim=[-.01, 1.01],\n",
    "           title='Precision-Recall curve')\n",
    "    \n",
    "plot_precision_recall_curve()"
   ]
  },
  {
   "cell_type": "markdown",
   "id": "e9124043",
   "metadata": {},
   "source": [
    "#### Feature importances"
   ]
  },
  {
   "cell_type": "code",
   "execution_count": 33,
   "id": "dae8d965",
   "metadata": {},
   "outputs": [
    {
     "data": {
      "text/plain": [
       "array([0.05258021, 0.01047412, 0.06374422, 0.02096175, 0.01083254,\n",
       "       0.00951104, 0.01210912, 0.00890383, 0.07815275, 0.01349785,\n",
       "       0.08951171, 0.5401034 , 0.00653259, 0.02197942, 0.00805218,\n",
       "       0.01676456, 0.00482623, 0.00166297, 0.00481088, 0.00424666,\n",
       "       0.00611975, 0.01462223])"
      ]
     },
     "execution_count": 33,
     "metadata": {},
     "output_type": "execute_result"
    }
   ],
   "source": [
    "RF_model.feature_importances_"
   ]
  },
  {
   "cell_type": "code",
   "execution_count": 34,
   "id": "a7e0f410",
   "metadata": {},
   "outputs": [
    {
     "data": {
      "image/png": "[encoded data removed]",
      "text/plain": [
       "<Figure size 1152x432 with 1 Axes>"
      ]
     },
     "metadata": {
      "needs_background": "light"
     },
     "output_type": "display_data"
    }
   ],
   "source": [
    "# Plot feature importances (this code cell was adapted from the Bagging Demo by IBM)\n",
    "feature_cols = [x for x in df.columns if x != 'churn_value']\n",
    "feature_imp = pd.Series(RF_model.feature_importances_, index=feature_cols).sort_values(ascending=False)\n",
    "\n",
    "ax = feature_imp.plot(kind='bar', figsize=(16, 6))\n",
    "ax.set(ylabel='Relative Importance');\n",
    "ax.set(ylabel='Feature');"
   ]
  },
  {
   "cell_type": "markdown",
   "id": "5c00f6d4",
   "metadata": {},
   "source": [
    "## 7. Extra Random Trees model "
   ]
  },
  {
   "cell_type": "markdown",
   "id": "7f6ba0f2",
   "metadata": {},
   "source": [
    "Let's now try developing an Extra Trees Classifier. We'll follow the steps from the Bagging Demo again."
   ]
  },
  {
   "cell_type": "code",
   "execution_count": 35,
   "id": "84a4c062",
   "metadata": {},
   "outputs": [
    {
     "data": {
      "text/html": [
       "<div>\n",
       "<style scoped>\n",
       "    .dataframe tbody tr th:only-of-type {\n",
       "        vertical-align: middle;\n",
       "    }\n",
       "\n",
       "    .dataframe tbody tr th {\n",
       "        vertical-align: top;\n",
       "    }\n",
       "\n",
       "    .dataframe thead th {\n",
       "        text-align: right;\n",
       "    }\n",
       "</style>\n",
       "<table border=\"1\" class=\"dataframe\">\n",
       "  <thead>\n",
       "    <tr style=\"text-align: right;\">\n",
       "      <th></th>\n",
       "      <th>oob</th>\n",
       "    </tr>\n",
       "    <tr>\n",
       "      <th>n_trees</th>\n",
       "      <th></th>\n",
       "    </tr>\n",
       "  </thead>\n",
       "  <tbody>\n",
       "    <tr>\n",
       "      <th>15.0</th>\n",
       "      <td>0.077633</td>\n",
       "    </tr>\n",
       "    <tr>\n",
       "      <th>20.0</th>\n",
       "      <td>0.069822</td>\n",
       "    </tr>\n",
       "    <tr>\n",
       "      <th>30.0</th>\n",
       "      <td>0.066036</td>\n",
       "    </tr>\n",
       "    <tr>\n",
       "      <th>40.0</th>\n",
       "      <td>0.066509</td>\n",
       "    </tr>\n",
       "    <tr>\n",
       "      <th>50.0</th>\n",
       "      <td>0.062959</td>\n",
       "    </tr>\n",
       "    <tr>\n",
       "      <th>100.0</th>\n",
       "      <td>0.059172</td>\n",
       "    </tr>\n",
       "    <tr>\n",
       "      <th>150.0</th>\n",
       "      <td>0.056568</td>\n",
       "    </tr>\n",
       "    <tr>\n",
       "      <th>200.0</th>\n",
       "      <td>0.056095</td>\n",
       "    </tr>\n",
       "    <tr>\n",
       "      <th>250.0</th>\n",
       "      <td>0.053491</td>\n",
       "    </tr>\n",
       "    <tr>\n",
       "      <th>300.0</th>\n",
       "      <td>0.053964</td>\n",
       "    </tr>\n",
       "    <tr>\n",
       "      <th>350.0</th>\n",
       "      <td>0.054201</td>\n",
       "    </tr>\n",
       "    <tr>\n",
       "      <th>400.0</th>\n",
       "      <td>0.053728</td>\n",
       "    </tr>\n",
       "    <tr>\n",
       "      <th>450.0</th>\n",
       "      <td>0.053491</td>\n",
       "    </tr>\n",
       "    <tr>\n",
       "      <th>500.0</th>\n",
       "      <td>0.053018</td>\n",
       "    </tr>\n",
       "    <tr>\n",
       "      <th>550.0</th>\n",
       "      <td>0.052308</td>\n",
       "    </tr>\n",
       "    <tr>\n",
       "      <th>600.0</th>\n",
       "      <td>0.051598</td>\n",
       "    </tr>\n",
       "    <tr>\n",
       "      <th>650.0</th>\n",
       "      <td>0.051834</td>\n",
       "    </tr>\n",
       "    <tr>\n",
       "      <th>700.0</th>\n",
       "      <td>0.051598</td>\n",
       "    </tr>\n",
       "    <tr>\n",
       "      <th>750.0</th>\n",
       "      <td>0.051598</td>\n",
       "    </tr>\n",
       "    <tr>\n",
       "      <th>800.0</th>\n",
       "      <td>0.052544</td>\n",
       "    </tr>\n",
       "  </tbody>\n",
       "</table>\n",
       "</div>"
      ],
      "text/plain": [
       "              oob\n",
       "n_trees          \n",
       "15.0     0.077633\n",
       "20.0     0.069822\n",
       "30.0     0.066036\n",
       "40.0     0.066509\n",
       "50.0     0.062959\n",
       "100.0    0.059172\n",
       "150.0    0.056568\n",
       "200.0    0.056095\n",
       "250.0    0.053491\n",
       "300.0    0.053964\n",
       "350.0    0.054201\n",
       "400.0    0.053728\n",
       "450.0    0.053491\n",
       "500.0    0.053018\n",
       "550.0    0.052308\n",
       "600.0    0.051598\n",
       "650.0    0.051834\n",
       "700.0    0.051598\n",
       "750.0    0.051598\n",
       "800.0    0.052544"
      ]
     },
     "execution_count": 35,
     "metadata": {},
     "output_type": "execute_result"
    }
   ],
   "source": [
    "# This code cell was adapted from the Bagging Demo by IBM.\n",
    "from sklearn.ensemble import ExtraTreesClassifier\n",
    "\n",
    "# Initialize the random forest estimator\n",
    "EF = ExtraTreesClassifier(oob_score=True, random_state=42, warm_start=True, bootstrap=True, n_jobs=-1)\n",
    "\n",
    "oob_list = list()\n",
    "\n",
    "# Iterate through all of the possibilities for \n",
    "# number of trees\n",
    "for n_trees in [15, 20, 30, 40, 50, 100, 150, 200, 250, 300, 350, 400, 450, 500, 550, 600, 650, 700, 750, 800]:\n",
    "    \n",
    "    # Use this to set the number of trees\n",
    "    EF.set_params(n_estimators=n_trees)\n",
    "    EF.fit(X_train, y_train)\n",
    "\n",
    "    # oob error\n",
    "    oob_error = 1 - EF.oob_score_\n",
    "    oob_list.append(pd.Series({'n_trees': n_trees, 'oob': oob_error}))\n",
    "\n",
    "et_oob_df = pd.concat(oob_list, axis=1).T.set_index('n_trees')\n",
    "\n",
    "et_oob_df"
   ]
  },
  {
   "cell_type": "code",
   "execution_count": 36,
   "id": "407b05b5",
   "metadata": {},
   "outputs": [
    {
     "data": {
      "text/html": [
       "<div>\n",
       "<style scoped>\n",
       "    .dataframe tbody tr th:only-of-type {\n",
       "        vertical-align: middle;\n",
       "    }\n",
       "\n",
       "    .dataframe tbody tr th {\n",
       "        vertical-align: top;\n",
       "    }\n",
       "\n",
       "    .dataframe thead th {\n",
       "        text-align: right;\n",
       "    }\n",
       "</style>\n",
       "<table border=\"1\" class=\"dataframe\">\n",
       "  <thead>\n",
       "    <tr style=\"text-align: right;\">\n",
       "      <th></th>\n",
       "      <th>RandomForest</th>\n",
       "      <th>ExtraTrees</th>\n",
       "    </tr>\n",
       "    <tr>\n",
       "      <th>n_trees</th>\n",
       "      <th></th>\n",
       "      <th></th>\n",
       "    </tr>\n",
       "  </thead>\n",
       "  <tbody>\n",
       "    <tr>\n",
       "      <th>15.0</th>\n",
       "      <td>0.060118</td>\n",
       "      <td>0.077633</td>\n",
       "    </tr>\n",
       "    <tr>\n",
       "      <th>20.0</th>\n",
       "      <td>0.056331</td>\n",
       "      <td>0.069822</td>\n",
       "    </tr>\n",
       "    <tr>\n",
       "      <th>30.0</th>\n",
       "      <td>0.054675</td>\n",
       "      <td>0.066036</td>\n",
       "    </tr>\n",
       "    <tr>\n",
       "      <th>40.0</th>\n",
       "      <td>0.051834</td>\n",
       "      <td>0.066509</td>\n",
       "    </tr>\n",
       "    <tr>\n",
       "      <th>50.0</th>\n",
       "      <td>0.052308</td>\n",
       "      <td>0.062959</td>\n",
       "    </tr>\n",
       "    <tr>\n",
       "      <th>100.0</th>\n",
       "      <td>0.051124</td>\n",
       "      <td>0.059172</td>\n",
       "    </tr>\n",
       "    <tr>\n",
       "      <th>150.0</th>\n",
       "      <td>0.051598</td>\n",
       "      <td>0.056568</td>\n",
       "    </tr>\n",
       "    <tr>\n",
       "      <th>200.0</th>\n",
       "      <td>0.050888</td>\n",
       "      <td>0.056095</td>\n",
       "    </tr>\n",
       "    <tr>\n",
       "      <th>250.0</th>\n",
       "      <td>0.050888</td>\n",
       "      <td>0.053491</td>\n",
       "    </tr>\n",
       "    <tr>\n",
       "      <th>300.0</th>\n",
       "      <td>0.050178</td>\n",
       "      <td>0.053964</td>\n",
       "    </tr>\n",
       "    <tr>\n",
       "      <th>350.0</th>\n",
       "      <td>0.051361</td>\n",
       "      <td>0.054201</td>\n",
       "    </tr>\n",
       "    <tr>\n",
       "      <th>400.0</th>\n",
       "      <td>0.050888</td>\n",
       "      <td>0.053728</td>\n",
       "    </tr>\n",
       "    <tr>\n",
       "      <th>450.0</th>\n",
       "      <td>0.051361</td>\n",
       "      <td>0.053491</td>\n",
       "    </tr>\n",
       "    <tr>\n",
       "      <th>500.0</th>\n",
       "      <td>0.049941</td>\n",
       "      <td>0.053018</td>\n",
       "    </tr>\n",
       "    <tr>\n",
       "      <th>550.0</th>\n",
       "      <td>0.050414</td>\n",
       "      <td>0.052308</td>\n",
       "    </tr>\n",
       "    <tr>\n",
       "      <th>600.0</th>\n",
       "      <td>0.050178</td>\n",
       "      <td>0.051598</td>\n",
       "    </tr>\n",
       "    <tr>\n",
       "      <th>650.0</th>\n",
       "      <td>0.050651</td>\n",
       "      <td>0.051834</td>\n",
       "    </tr>\n",
       "    <tr>\n",
       "      <th>700.0</th>\n",
       "      <td>0.049941</td>\n",
       "      <td>0.051598</td>\n",
       "    </tr>\n",
       "    <tr>\n",
       "      <th>750.0</th>\n",
       "      <td>0.050651</td>\n",
       "      <td>0.051598</td>\n",
       "    </tr>\n",
       "    <tr>\n",
       "      <th>800.0</th>\n",
       "      <td>0.050651</td>\n",
       "      <td>0.052544</td>\n",
       "    </tr>\n",
       "  </tbody>\n",
       "</table>\n",
       "</div>"
      ],
      "text/plain": [
       "         RandomForest  ExtraTrees\n",
       "n_trees                          \n",
       "15.0         0.060118    0.077633\n",
       "20.0         0.056331    0.069822\n",
       "30.0         0.054675    0.066036\n",
       "40.0         0.051834    0.066509\n",
       "50.0         0.052308    0.062959\n",
       "100.0        0.051124    0.059172\n",
       "150.0        0.051598    0.056568\n",
       "200.0        0.050888    0.056095\n",
       "250.0        0.050888    0.053491\n",
       "300.0        0.050178    0.053964\n",
       "350.0        0.051361    0.054201\n",
       "400.0        0.050888    0.053728\n",
       "450.0        0.051361    0.053491\n",
       "500.0        0.049941    0.053018\n",
       "550.0        0.050414    0.052308\n",
       "600.0        0.050178    0.051598\n",
       "650.0        0.050651    0.051834\n",
       "700.0        0.049941    0.051598\n",
       "750.0        0.050651    0.051598\n",
       "800.0        0.050651    0.052544"
      ]
     },
     "execution_count": 36,
     "metadata": {},
     "output_type": "execute_result"
    }
   ],
   "source": [
    "# Combine the data frames to compare the random forest and extra trees classifier\n",
    "# This code cell was also adapted from the Bagging Demo\n",
    "oob_df = pd.concat([rf_oob_df.rename(columns={'oob':'RandomForest'}),\n",
    "                    et_oob_df.rename(columns={'oob':'ExtraTrees'})], axis=1)\n",
    "\n",
    "oob_df"
   ]
  },
  {
   "cell_type": "markdown",
   "id": "fa38cd72",
   "metadata": {},
   "source": [
    "The Random Forest algorithm seems to be doing better in comparison to the Extra Random Trees one. For the Extra Trees, based on the previous results, a good idea could be between 600-750 trees. Let's choose 600 to make it less complex. "
   ]
  },
  {
   "cell_type": "code",
   "execution_count": 37,
   "id": "979b1f08",
   "metadata": {},
   "outputs": [],
   "source": [
    "EF_model = EF.set_params(n_estimators=600)\n",
    "y_pred = EF_model.predict(X_test)"
   ]
  },
  {
   "cell_type": "code",
   "execution_count": 41,
   "id": "d387ba75",
   "metadata": {},
   "outputs": [
    {
     "data": {
      "text/plain": [
       "0.052544378698224814"
      ]
     },
     "execution_count": 41,
     "metadata": {},
     "output_type": "execute_result"
    }
   ],
   "source": [
    "# Note that it's different, but close to the values from before\n",
    "1- EF_model.oob_score_"
   ]
  },
  {
   "cell_type": "markdown",
   "id": "bce04477",
   "metadata": {},
   "source": [
    "#### Classification report"
   ]
  },
  {
   "cell_type": "code",
   "execution_count": 42,
   "id": "97d4d0e2",
   "metadata": {},
   "outputs": [
    {
     "name": "stdout",
     "output_type": "stream",
     "text": [
      "              precision    recall  f1-score   support\n",
      "\n",
      "           0       0.96      0.97      0.97      2070\n",
      "           1       0.92      0.89      0.91       748\n",
      "\n",
      "    accuracy                           0.95      2818\n",
      "   macro avg       0.94      0.93      0.94      2818\n",
      "weighted avg       0.95      0.95      0.95      2818\n",
      "\n"
     ]
    }
   ],
   "source": [
    "# Classification report\n",
    "print(classification_report(y_test, y_pred))"
   ]
  },
  {
   "cell_type": "code",
   "execution_count": 43,
   "id": "7787a2b2",
   "metadata": {},
   "outputs": [
    {
     "name": "stdout",
     "output_type": "stream",
     "text": [
      "0.95\n",
      "0.92\n",
      "0.89\n"
     ]
    }
   ],
   "source": [
    "# Let's also get the metrics by separate just for verification purposes\n",
    "print(round(accuracy_score(y_test,y_pred),2))\n",
    "print(round(precision_score(y_test,y_pred),2))\n",
    "print(round(recall_score(y_test,y_pred),2))"
   ]
  },
  {
   "cell_type": "markdown",
   "id": "a0f211af",
   "metadata": {},
   "source": [
    "#### Save the model"
   ]
  },
  {
   "cell_type": "code",
   "execution_count": 44,
   "id": "7462ca25",
   "metadata": {},
   "outputs": [],
   "source": [
    "import pickle\n",
    "name = \"../models/EF_model_600.sav\"\n",
    "pickle.dump(EF_model, open(name, 'wb'))"
   ]
  },
  {
   "cell_type": "markdown",
   "id": "1ea62d25",
   "metadata": {},
   "source": [
    "#### Load the model "
   ]
  },
  {
   "cell_type": "code",
   "execution_count": 45,
   "id": "cc6b8551",
   "metadata": {},
   "outputs": [],
   "source": [
    "EF_model = pickle.load(open(name, 'rb'))"
   ]
  },
  {
   "cell_type": "markdown",
   "id": "48e58258",
   "metadata": {},
   "source": [
    "#### Sanity checks "
   ]
  },
  {
   "cell_type": "code",
   "execution_count": 47,
   "id": "2ff6e1ce",
   "metadata": {},
   "outputs": [
    {
     "name": "stdout",
     "output_type": "stream",
     "text": [
      "0.95\n",
      "0.92\n",
      "0.89\n"
     ]
    }
   ],
   "source": [
    "y_pred = EF_model.predict(X_test)\n",
    "print(round(accuracy_score(y_test,y_pred),2))\n",
    "print(round(precision_score(y_test,y_pred),2))\n",
    "print(round(recall_score(y_test,y_pred),2))"
   ]
  },
  {
   "cell_type": "code",
   "execution_count": 48,
   "id": "9083e5b9",
   "metadata": {},
   "outputs": [
    {
     "name": "stdout",
     "output_type": "stream",
     "text": [
      "              precision    recall  f1-score   support\n",
      "\n",
      "           0       0.96      0.97      0.97      2070\n",
      "           1       0.92      0.89      0.91       748\n",
      "\n",
      "    accuracy                           0.95      2818\n",
      "   macro avg       0.94      0.93      0.94      2818\n",
      "weighted avg       0.95      0.95      0.95      2818\n",
      "\n"
     ]
    }
   ],
   "source": [
    "print(classification_report(y_test, y_pred))"
   ]
  },
  {
   "cell_type": "code",
   "execution_count": 49,
   "id": "853ea3d1",
   "metadata": {},
   "outputs": [
    {
     "data": {
      "image/png": "[encoded data removed]",
      "text/plain": [
       "<Figure size 864x864 with 2 Axes>"
      ]
     },
     "metadata": {
      "needs_background": "light"
     },
     "output_type": "display_data"
    }
   ],
   "source": [
    "plot_confusion_matrix()"
   ]
  },
  {
   "cell_type": "markdown",
   "id": "041f57f4",
   "metadata": {},
   "source": [
    "#### Precision/recall curve "
   ]
  },
  {
   "cell_type": "code",
   "execution_count": 50,
   "id": "d2f33b2b",
   "metadata": {},
   "outputs": [
    {
     "data": {
      "image/png": "[encoded data removed]",
      "text/plain": [
       "<Figure size 1152x576 with 1 Axes>"
      ]
     },
     "metadata": {
      "needs_background": "light"
     },
     "output_type": "display_data"
    }
   ],
   "source": [
    "y_pred_proba = EF_model.predict_proba(X_test)\n",
    "y_pred_proba[:,1]\n",
    "plot_precision_recall_curve()"
   ]
  },
  {
   "cell_type": "markdown",
   "id": "9c371ac2",
   "metadata": {},
   "source": [
    "#### Feature importances "
   ]
  },
  {
   "cell_type": "code",
   "execution_count": 51,
   "id": "3c25be63",
   "metadata": {},
   "outputs": [
    {
     "data": {
      "text/plain": [
       "array([0.05764663, 0.0160425 , 0.04988871, 0.03146271, 0.01736324,\n",
       "       0.01522884, 0.0182028 , 0.01369652, 0.09298205, 0.02079262,\n",
       "       0.06750947, 0.45959541, 0.01066958, 0.03475825, 0.01573933,\n",
       "       0.02422249, 0.00729659, 0.00313942, 0.00808905, 0.00630331,\n",
       "       0.00892082, 0.02044966])"
      ]
     },
     "execution_count": 51,
     "metadata": {},
     "output_type": "execute_result"
    }
   ],
   "source": [
    "EF_model.feature_importances_"
   ]
  },
  {
   "cell_type": "code",
   "execution_count": 52,
   "id": "fc1314cb",
   "metadata": {},
   "outputs": [
    {
     "data": {
      "image/png": "[encoded data removed]",
      "text/plain": [
       "<Figure size 1152x432 with 1 Axes>"
      ]
     },
     "metadata": {
      "needs_background": "light"
     },
     "output_type": "display_data"
    }
   ],
   "source": [
    "# Plot feature importances (this code cell was adapted from the Bagging Demo by IBM)\n",
    "# It can also be put into a function\n",
    "feature_cols = [x for x in df.columns if x != 'churn_value']\n",
    "feature_imp = pd.Series(EF_model.feature_importances_, index=feature_cols).sort_values(ascending=False)\n",
    "\n",
    "ax = feature_imp.plot(kind='bar', figsize=(16, 6))\n",
    "ax.set(ylabel='Relative Importance');\n",
    "ax.set(ylabel='Feature');"
   ]
  }
 ],
 "metadata": {
  "kernelspec": {
   "display_name": "Python 3",
   "language": "python",
   "name": "python3"
  },
  "language_info": {
   "codemirror_mode": {
    "name": "ipython",
    "version": 3
   },
   "file_extension": ".py",
   "mimetype": "text/x-python",
   "name": "python",
   "nbconvert_exporter": "python",
   "pygments_lexer": "ipython3",
   "version": "3.8.8"
  }
 },
 "nbformat": 4,
 "nbformat_minor": 5
}
